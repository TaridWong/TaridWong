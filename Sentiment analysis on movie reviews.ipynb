<!DOCTYPE html>
<html lang="en-US">
  <head data-suburl="">
    <meta http-equiv="Content-Type" content="text/html; charset=UTF-8"/>
    <meta http-equiv="X-UA-Compatible" content="IE=edge"/>

    
      <meta name="viewport" content="width=device-width, initial-scale=1"/>
    
    <meta name="referrer" content="no-referrer"/>
    <meta name="_csrf" content="dGM5HjTRmSbWUmFvA9SYCCYFVYY6MTYzNTg4NjUwNDM0MzY1ODQwOQ"/>
    <meta name="_suburl" content=""/>
    
    <meta name="_bareRepo" content="false"/>
    <meta name="_demoRepoURL" content="/nirbarazida/Pneumonia-Classification"/>

    
    
  <script>(function(w, d, s, l, i) {
      w[l] = w[l] || [];
      w[l].push({
        'gtm.start':
          new Date().getTime(), event: 'gtm.js'
      });
      var f = d.getElementsByTagName(s)[0],
        j = d.createElement(s),
        dl = l != 'dataLayer' ? '&l=' + l : '';
      j.async = true;
      j.src =
        'https://www.googletagmanager.com/gtm.js?id=' + i + dl;
      f.parentNode.insertBefore(j, f);
    })(window, document, 'script', 'dataLayer', 'GTM-PGHTMDN');</script>

    

    
    
      
  <title>amoshochman/sentiment-analysis-on-movie-reviews: A Jupyter Notebook for the Kaggle competition: Classify the sentiment of sentences from the Rotten Tomatoes dataset</title>
  <meta name="description"
        content="A Jupyter Notebook for the Kaggle competition: Classify the sentiment of sentences from the Rotten Tomatoes dataset - amoshochman/sentiment-analysis-on-movie-reviews"/>


<meta property="og:site_name" content="DAGsHub">
<meta property="og:type" content="object"/>
<meta property="og:title" content="amoshochman/sentiment-analysis-on-movie-reviews">
<meta property="og:url" content="https://dagshub.com/amoshochman/sentiment-analysis-on-movie-reviews"/>
<meta property="og:description"
      content="A Jupyter Notebook for the Kaggle competition: Classify the sentiment of sentences from the Rotten Tomatoes dataset - amoshochman/sentiment-analysis-on-movie-reviews">
<meta property="og:image" content="https://secure.gravatar.com/avatar/40556db6b62ff1dbc9c50bc2454bc491?d=identicon"/>

<meta property="twitter:site" content="@TheRealDAGsHub">
<meta property="twitter:card" content="summary">
<meta property="twitter:title" content="amoshochman/sentiment-analysis-on-movie-reviews">
<meta property="twitter:description"
      content="A Jupyter Notebook for the Kaggle competition: Classify the sentiment of sentences from the Rotten Tomatoes dataset - amoshochman/sentiment-analysis-on-movie-reviews">
<meta property="twitter:image:src" content="https://secure.gravatar.com/avatar/40556db6b62ff1dbc9c50bc2454bc491?d=identicon">
<script type="application/ld+json">
{
  "@context": "https://www.schema.org",
  "@type": "SoftwareSourceCode",
  "codeRepository": "https://dagshub.com/amoshochman/sentiment-analysis-on-movie-reviews",
  "name": "amoshochman/sentiment-analysis-on-movie-reviews",
  "about": "A Jupyter Notebook for the Kaggle competition: Classify the sentiment of sentences from the Rotten Tomatoes dataset - amoshochman/sentiment-analysis-on-movie-reviews",
  "author": {
    
      "@type": "Person",
      "name": "amoshochman",
      "alternateName": "amoshochman",
      "url": "https://dagshub.com/amoshochman",
      "image": "https://secure.gravatar.com/avatar/40556db6b62ff1dbc9c50bc2454bc491?d=identicon"

  },
  "url": "https://dagshub.com/amoshochman/sentiment-analysis-on-movie-reviews",
  "image": "https://secure.gravatar.com/avatar/40556db6b62ff1dbc9c50bc2454bc491?d=identicon"
}



</script>

    

    <link rel="shortcut icon" href="/img/favicon.png"/>

    <script src="/js/jquery-3.4.1.min.js"></script>
    <script src="/js/libs/jquery.are-you-sure.js"></script>
    
      <script src="https://cdn.jsdelivr.net/npm/shepherd.js@5.0.1/dist/js/shepherd.min.js" integrity="sha256-f0JCIzCXnjrT/MjpxcmNjDQNqO7mUR2Pn8+5mC0zfeE=" crossorigin="anonymous"></script>
    
    
  <link rel="stylesheet" href="https://cdnjs.cloudflare.com/ajax/libs/font-awesome/5.15.3/css/all.css"
        integrity="sha512-3icgkoIO5qm2D4bGSUkPqeQ96LS8+ukJC7Eqhl1H5B2OJMEnFqLmNDxXVmtV/eq5M65tTDkUYS/Q0P4gvZv+yA=="
        crossorigin="anonymous"
        referrerpolicy="no-referrer" />


    <link rel="stylesheet" href="/assets/octicons-4.3.0/octicons.min.css">

    
    
      <script src="/plugins/notebookjs-0.4.2/notebook.min.js"></script>
      <script src="/plugins/marked-0.8.1/marked.min.js"></script>
    

    

    

    

    

    

    
    
    <link rel="preload" href="/css/themes/default/assets/fonts/brand-icons.woff2" as="font"
          type="font/woff2" crossorigin/>
    <link rel="preload" href="/css/themes/default/assets/fonts/icons.woff2" as="font" type="font/woff2"
          crossorigin/>
    <link rel="preload" href="/assets/fontawesome-5.15.3/webfonts/fa-solid-900.woff2" as="font"
          type="font/woff2" crossorigin/>

    
    <link rel="stylesheet" href="/css/semantic.min.css">

    
    <link rel="stylesheet" href="/css/dagshub.css?v=7d5f7146cb3ec7e80e1c3238fdaa55f928494bbf">
    
    <link rel="stylesheet" href="/css/gogs.css?v=7d5f7146cb3ec7e80e1c3238fdaa55f928494bbf">

    
    <link href="https://fonts.googleapis.com/css?family=Comfortaa|Lato:300,400,700,900|Jaldi|Open+Sans&display=swap"
          rel="stylesheet">

    <noscript>
      <style>
        .dropdown:hover > .menu {
          display: block;
        }

        .ui.secondary.menu .dropdown.item > .menu {
          margin-top: 0;
        }
      </style>
    </noscript>
    <script src="/js/semantic.min.js"></script>

    
    
      <link rel="stylesheet" href="/css/responsive_page.css?v=7d5f7146cb3ec7e80e1c3238fdaa55f928494bbf">
    

    <meta name="theme-color" content="#ff5343">

    
  <script src="https://www.google.com/recaptcha/api.js" async defer></script>



    
  </head>
  <body>

    



  <noscript>
    <iframe src="https://www.googletagmanager.com/ns.html?id=GTM-PGHTMDN"
            height="0" width="0" style="display:none;visibility:hidden"></iframe>
  </noscript>




<div class="ui tiny modal" id="contact-modal">
  <i class="close icon"></i>
  <div class="header">
    Contact us
  </div>
  <form id="contact-form" class="ui form content" action="contact_form" method="post">
    <input type="hidden" name="_csrf" value="dGM5HjTRmSbWUmFvA9SYCCYFVYY6MTYzNTg4NjUwNDM0MzY1ODQwOQ">
    <div class="required field">
      <label for="user_name">Your email address</label>
      <input name="email" type="email" value=""
             placeholder="tony@stark-industries.com" required>
    </div>
    <div class="required field">
      <label for="subject">Subject</label>
      <input name="subject" value="Hi DAGsHub, let's talk" placeholder="What would you like to talk about?" required>
    </div>
    <div class="required field">
      <textarea class="autosize" name="body" rows="7" ></textarea>
    </div>
    
      <script type="text/javascript">
        var myRecaptchaListeners = {
          callAllListeners: function(listeners) {
            return () => listeners.forEach((f) => f());
          },
          successListeners: [],
          expireListeners: [],
        };
        contactFormCaptchaCallback = myRecaptchaListeners.callAllListeners(myRecaptchaListeners.successListeners);
        contactFormCaptchaExpired = myRecaptchaListeners.callAllListeners(myRecaptchaListeners.expireListeners);
      </script>
      <div class="g-recaptcha field"
           data-sitekey="6Lf0Z7gUAAAAAKCsW1V-PqN58BcBNAUxe-oIU3nw"
           data-callback="contactFormCaptchaCallback"
           data-expired-callback="contactFormCaptchaExpired"></div>
    
    <input type="hidden" name="page"/>
    <input type="hidden" name="referring_page"/>
    <input type="hidden" name="referrer"/>
    <button class="ui positive center aligned labeled icon button" id="send-contact-request-btn">
      Send
      <i class="checkmark icon"></i>
    </button>
    
      <script type="text/javascript">
        (function() {
          const submitBtn = document.getElementById('send-contact-request-btn');
          onExpire = () => submitBtn.style.display = 'none';
          onExpire();
          myRecaptchaListeners.successListeners.push(() => {
            submitBtn.style.display = 'block';
          });
          myRecaptchaListeners.expireListeners.push(onExpire);
        })();
      </script>
    
    <div class="ui hidden dimmer inverted">
      <div class="ui loader"></div>
      <div class="ui hidden positive message">
        <p>Thank you! We'll be in touch ASAP.</p>
      </div>
      <div class="ui hidden negative message">
        <p>Something went wrong, please try again or contact us directly at <a
                  href="mailto:contact@dagshub.com">contact@dagshub.com</a></p>
      </div>
    </div>
  </form>
  <script>
    (function() {
      const $contactModal = $('#contact-modal');
      const $contactForm = $('#contact-form');
      const $dimmer = $contactForm.find('.dimmer');
      const $loader = $dimmer.find('.loader');
      const $okMsg = $dimmer.find('.positive');
      const $errorMsg = $dimmer.find('.negative');

      $contactForm.find('input[name=page]').val(document.URL);
      $contactForm.find('input[name=referring_page]').val(new URL(document.URL).searchParams.get('referring_page'));
      $contactForm.find('input[name=referrer]').val(document.referrer);

      
      $contactModal.modal({
        onShow: () => {
          $dimmer.dimmer('hide');
          $loader.transition('fade in', 0);
          $okMsg.transition('fade out', 0);
          $errorMsg.transition('fade out', 0);
        }
      });

      $contactForm.submit((e) => {
        e.preventDefault();

        $dimmer.dimmer('show');

        function hideModal() {
          setTimeout(() => {
            $contactModal.modal('hide');
          }, 3000);
        }

        
        const loaderToMessage = function(targetMsg = $okMsg, afterMsg = hideModal) {
          $loader.transition('fade out');
          targetMsg.transition('fade in');
          if (afterMsg) afterMsg();
        };

        $.ajax({
          url: $contactForm.attr('action'),
          method: 'post',
          data: $contactForm.serialize(),
          success: () => loaderToMessage(),
          error: e => {
            console.error(e);
            
            loaderToMessage($errorMsg, null);
          }
        });
        
        
        
        
      });
    })();
  </script>
  <div class="ui secondary segment">
    Or if you want, you can join our community at <a href="https://discord.com/invite/9gU36Y6"
                                                     class="ui basic discord icon"><i class="discord grey icon big"></i></a>
  </div>
</div>



    
      

<div class="ui right vertical inverted sidebar menu">
  <div class="search item">
    <form class="ui form home_search" action="/explore/repos">
      <div class="ui icon fluid small input">
        <input name="q" value="" placeholder="Search public projects...">
        
        <button class="search-button-wrapper ui tiny icon button">
          <i class="search icon"></i>
        </button>
      </div>
    </form>
  </div>
  
    <a class="item" href="/">Home</a>
  
  <a class="item" href="/explore/repos">Explore</a>
  
  <div class="item">
    Resources &nbsp;<i class="fas fa-angle-down"></i>
    <div class="menu">
      <a class="item"
         href="/docs">Docs</a>
      <a class="item" href="/docs/faq">FAQ</a>
      <a class="item" href="/blog">Blog</a>
    </div>
  </div>
  <div class="item">
    Company &nbsp;<i class="fas fa-angle-down"></i>
    <div class="menu">
      <a class="item" href="/about">Our Story</a>
      <a class="item"
         href="/careers">Careers</a>
    </div>
  </div>
  <div class="item"></div>
  <a class="item" href="https://discord.com/invite/9gU36Y6">
    <i class="discord icon "></i> Join our channel
  </a>
  
    <div class="item"></div>
    
      <a class="bottom-menu item"
         href="/user/sign_up?redirect_to=%2famoshochman%2fsentiment-analysis-on-movie-reviews%2fsrc%2fmaster%2fsentiment%20analysis.ipynb

"
      >
        <i class="sign-up-icon fas fa-user-plus"></i> Register
      </a>
    
    <a class="bottom-menu item"
       href="/user/login?redirect_to=%2famoshochman%2fsentiment-analysis-on-movie-reviews%2fsrc%2fmaster%2fsentiment%20analysis.ipynb

">
      <i class="sign-in-icon fas fa-sign-in-alt"></i> Sign In
    </a>
  
</div>
<script>
  $(document)
          .ready(function() {
            
            $('.ui.sidebar').sidebar('attach events', '.toc.item');
          });
</script>
<div class="ui full height">
  <noscript>This website works better with JavaScript</noscript>

  
    <div class=" following bar light">
      <div id="menu-container" class="ui fluid container">
        <div class="left-menu">
          <a class="item brand" href="">
            <img width="176" height="50" alt="DAGsHub navbar logo" class="ui image"
                 src="/img/favicon-detail.svg">
          </a>
          <div class="ui top inverted secondary menu">
            <a class="left-menu item"
               href="/explore/repos">Explore</a>
            
            <div class="ui nav-dropdown dropdown item ">
              Resources &nbsp;<i class="fas fa-angle-down"></i>
              <div class="menu">
                <a class="left-menu item"
                   href="/docs">Docs</a>
                <a class="left-menu item"
                   href="/docs/faq">FAQ</a>
                <a class="left-menu item"
                   href="/blog">Blog</a>
              </div>
            </div>
            
              <div class="ui nav-dropdown dropdown item ">
                Company &nbsp;<i class="fas fa-angle-down"></i>
                <div class="menu">
                  <a class="left-menu item"
                     href="/about">Our Story</a>
                  <a class="left-menu item"
                     href="/careers">Careers</a>
                </div>
              </div>
            
          </div>
        </div>
        <div class="ui top inverted secondary menu">
          <div class="menu">
            <a aria-label="join our discord"
               class="right-menu item ui basic inverted circular discord icon"
               href="https://discord.com/invite/9gU36Y6">
              <i class="discord big icon"></i>
            </a>
            <div class="right-menu search item">
              <form class="ui form home_search" action="/explore/repos">
                <div class="ui icon small input">
                  <input name="q" value="" aria-label="Search public projects"
                         placeholder="Search public repositories...">
                  
                  <button class="search-button-wrapper ui tiny icon button"
                          aria-label="Public projects search button">
                    <i class="search icon"></i>
                  </button>
                </div>
              </form>
            </div>
            <div class="right-menu head link jump item poping up help help-icon">
                <i class="fas fa-question-circle large icon" id="help"></i>
                <div class="ui fluid popup bottom left transition hidden" data-variation="very wide"
                     style="inset: 554px auto auto 1px; width: 960px !important;">
                  <div class="ui one column divided grid">
                    <div class="column">
                      <h4 class="ui header">Hi, welcome to DAGsHub!</h4>
                      <span>We gathered a few resources that will help you get started with DAGsHub fast.</span>
                      <h5 class="ui header">Get Started</h5>
                      <div class="ui small link list">
                        <a class="item" id="walkthrough-trigger" href="/nirbarazida/Pneumonia-Classification?force_walkthrough=true">
                          <i class="play circle outline icon"></i>Interactive walkthrough</a>
                        <a class="item" id="quickstart-trigger">
                          <i class="play circle outline icon"></i>Watch the quickstart video</a>
                        <a class="item" href="/docs/getting-started/overview">
                          <i class="file outline code icon"></i>Create a "Hello World" project</a>
                        <a class="item"
                           href="https://colab.research.google.com/drive/1JJIwAH0TBSY49um5s2FD0GEA6bw3SKrd?usp=sharing">
                          <i class="file alternate outline icon"></i>Try our example notebook</a>
                      </div>
                      <h4>DAGsHub Documentation <a href="/docs/"><i
                                  class="fas fa-external-link-alt"></i></a></h4>
                      <div class="ui small link list">
                        <a class="item" href="/docs/faq">
                          <i class="fas fa-question"></i> Check our FAQ
                        </a>
                      </div>
                      <h5 class="ui header">Data & model storage</h5>
                      <div class="ui small link list">
                        <a class="item" href="/docs/reference/dagshub_storage/">
                          <i class="file alternate outline icon"></i>Learn about DAGsHub storage</a>
                        <a class="item"
                           href="/docs/integration-guide/set-up-remote-storage-for-data-and-models/">
                          <i class="file alternate outline icon"></i>Connect your existing remote cloud storage (S3, GS,
                          etc.)</a>
                      </div>
                      <h5 class="ui header">Track experiments</h5>
                      <div class="ui small link list">
                        <a class="item" href="/docs/reference/open_data_science_formats/">
                          <i class="file alternate outline icon"></i>Learn about the experiments tab</a>
                        <a class="item" href="/docs/integration-guide/mlflow_tracking/">
                          <i class="file alternate outline icon"></i>Track experiments with MLflow</a>
                      </div>
                      <h5 class="ui header">Keep in touch</h5>
                      <div class="ui small link list">
                        <a class="item" href="https://discord.com/invite/9gU36Y6">
                          <i class="discord icon "></i> Join the community
                        </a>
                        <a class="item" href="/blog">
                          <i class="file alternate outline icon"></i>DAGsHub blog</a>
                      </div>
                    </div>
                  </div>
                </div>
              </div>
            
              
                <div class="right-menu head link item button">
                  <a id="sign-up-navbar" class="ui very compact green button"
                     href="/user/sign_up?redirect_to=%2famoshochman%2fsentiment-analysis-on-movie-reviews%2fsrc%2fmaster%2fsentiment%20analysis.ipynb

">
                    <i class="sign-up-icon fas fa-user-plus"></i> Sign Up
                  </a>
                </div>
              
              <a id="sign-in-navbar" class="right-menu item"
                 href="/user/login?redirect_to=%2famoshochman%2fsentiment-analysis-on-movie-reviews%2fsrc%2fmaster%2fsentiment%20analysis.ipynb

">
                <i class="sign-in-icon fas fa-sign-in-alt"></i> Sign In
              </a>
            
            
              <a class="toc item"><i class="sidebar icon"></i></a>
            
          </div>

        </div>
      </div>
    </div>
  
  <div id="quickstart-modal" class="ui basic modal video-modal">
  <i class="close icon"></i>
  <div class="image content">
    <div class="ui center aligned fluid container">
      <style>
        .embed-container {
          position: relative;
          padding-bottom: 56.25%;
          height: 0;
          overflow: hidden;
          max-width: 100%;
        }

        .embed-container iframe,
        .embed-container object,
        .embed-container embed {
          position: absolute;
          top: 0;
          left: 0;
          width: 100%;
          height: 100%;
        }
      </style>
      <div class='embed-container'>
        <iframe src='https://www.youtube.com/embed/lrzdqEwzoo8?version=3&enablejsapi=1'
                id="quickstart-dagshub-video"
                width="1920"
                height="1080"
                frameborder='0'
                allowfullscreen
        ></iframe>
      </div>
    </div>
  </div>
</div>
<script>
  $(document).ready(() => {
    $('#quickstart-modal').modal({
      onHide: function() {
        const videoIframe = $('#quickstart-dagshub-video')[0];
        if (videoIframe) {
          videoIframe.contentWindow.postMessage(
                  '{"event":"command","func":"stopVideo","args":""}', '*'
          );
        }
        return true;
      }
    }).modal('attach events', '#quickstart-trigger', 'show');
  });
</script>


    

<div class="repository file list">
  
  
  <div id="branch-message" class="ui error transition message hidden">
    <i class="close icon"></i>
    <p></p>
  </div>
  <div class="header-wrapper">
  <div class="ui repo header container">
    
      <div class="head">
        <div class="ui header flex-spread">
          <div class="ui huge breadcrumb">
            
              <i class="mega-octicon octicon-repo-clone"></i>
            
            <a href="/amoshochman">amoshochman</a>
            <div class="divider"> /</div>
            <a href="/amoshochman/sentiment-analysis-on-movie-reviews">sentiment-analysis-on-movie-reviews</a>
            
              <script src="/js/sync_mirror.js?v=7d5f7146cb3ec7e80e1c3238fdaa55f928494bbf"></script>
              <div class="fork-flag">mirror of
                <a target="_blank" rel="noopener noreferrer" href="https://github.com/amoshochman/sentiment-analysis-on-movie-reviews.git">
                  https://github.com/amoshochman/sentiment-analysis-on-movie-reviews.git
                </a>
                
              </div>
            
            
          </div>

          
            <div class="ui repo actions">
              <div class="ui labeled button" tabindex="0">
                <a class="ui basic button"
                   href="/amoshochman/sentiment-analysis-on-movie-reviews/action/watch?redirect_to=%2famoshochman%2fsentiment-analysis-on-movie-reviews%2fsrc%2fmaster%2fsentiment%20analysis.ipynb">
                  <i class="icon-dagshub far fa-eye"></i>Watch
                </a>
                <a class="ui basic label" href="/amoshochman/sentiment-analysis-on-movie-reviews/watchers">
                  1
                </a>
              </div>
              <div id="star-button" class="ui labeled button" tabindex="0">
                <a class="ui basic button"
                   href="/amoshochman/sentiment-analysis-on-movie-reviews/action/star?redirect_to=%2famoshochman%2fsentiment-analysis-on-movie-reviews%2fsrc%2fmaster%2fsentiment%20analysis.ipynb">
                  <i class="star outline icon"></i>Star
                </a>
                <a class="ui basic label" href="/amoshochman/sentiment-analysis-on-movie-reviews/stars">
                  0
                </a>
              </div>
              
                <div id="fork-button" class="ui labeled button" tabindex="0">
                  <a class="ui basic button "
                     href="/repo/fork/766">
                    <i class="octicon octicon-repo-forked"></i>Fork
                  </a>
                  <a class="ui basic label" href="/amoshochman/sentiment-analysis-on-movie-reviews/forks">
                    0
                  </a>
                </div>
              
            </div>
          
        </div>
      </div>
    
    
      <div class="ui fluid tabs">
        <div id="repository-tab-menu" class="ui pointing secondary menu navbar">
          
            <a class="active item" href="/amoshochman/sentiment-analysis-on-movie-reviews">
              <i class="octicon octicon-file-text"></i> Files
            </a>
          
          
            <a class=" item" id="experiments-tab" href="/amoshochman/sentiment-analysis-on-movie-reviews/experiments/">
              <i class="octicon octicon-beaker"></i> Experiments <span
                      class="ui gray small label">0</span>
            </a>
          
          
            <a class=" item" href="/amoshochman/sentiment-analysis-on-movie-reviews/issues">
              <i class="octicon octicon-issue-opened"></i> Issues 
              <span class="ui gray small label">0</span>
            </a>
          
          
          
            <a class=" item" href="/amoshochman/sentiment-analysis-on-movie-reviews/wiki">
              <i class="octicon octicon-book"></i> Wiki
            </a>
          
          
          <div id="mini-repository-menu" class="ui right dropdown hidden">
            <div id="repo-menu-kebab" class="text">
              <i class="fas fa-ellipsis-h"></i>
            </div>
            <div class="menu left">
            </div>
          </div>
        </div>
      </div>
    
  </div>
  <div class="ui fluid tabs divider"></div>
</div>

  <script>
    function autocollapse(menuSelector, dropdownMenuSelector) {
      function getItemsWidth(nav) {
        let navWidth = 0;
        nav.children('a.item').each(function() {
          navWidth += $(this).outerWidth();
        });
        return navWidth;
      }

      function getChildrenItems(nav) {
        return nav.children(' a.item');
      }

      function getCollapsed(dropdown) {
        return dropdown.children(' .menu').children('a.item');
      }

      const nav = $(menuSelector);
      const maxWidth = $(window).width() - 100;
      const dropDownMenu = $(dropdownMenuSelector);
      let navWidth = getItemsWidth(nav);

      while (navWidth < maxWidth) {
        
        const collapsed = getCollapsed(dropDownMenu);
        if (collapsed.length === 0) {
          dropDownMenu.addClass('hidden');
          break;
        }
        const movingChild = $(collapsed[0]);
        const lastMenuElement = menuSelector + ' > a.right.item';
        const leftMostRightElement = $(lastMenuElement).length > 0 ? lastMenuElement : dropdownMenuSelector;

        
        movingChild.insertBefore(leftMostRightElement);
        navWidth += movingChild.outerWidth(true);
      }
      while (navWidth >= maxWidth) {
        dropDownMenu.removeClass('hidden');
        
        const children = getChildrenItems(nav);
        const movingChild = $(children[children.length - 1]);
        navWidth -= movingChild.outerWidth(true);
        movingChild.prependTo(dropdownMenuSelector + ' .menu');
      }
    }; 
    $(function() {
      
      autocollapse('#repository-tab-menu', '#mini-repository-menu');

      
      $(window).on('resize', function() {
        autocollapse('#repository-tab-menu', '#mini-repository-menu');
      });
    });
  </script>


  <div class="ui container">
    





    
    <div id="topics">
      <input type="hidden" name="_max_repo_topics" value="5" />
      
      
    </div>
    <link rel="stylesheet" href="/css/topics.css?v=7d5f7146cb3ec7e80e1c3238fdaa55f928494bbf" />
    <form class="ui form topics topics-form" style="display:none" action="https://dagshub.com/amoshochman/sentiment-analysis-on-movie-reviews/topics" method="POST">
      <input type="hidden" name="_csrf" value="dGM5HjTRmSbWUmFvA9SYCCYFVYY6MTYzNTg4NjUwNDM0MzY1ODQwOQ">
      <input name="path" type="hidden" value="sentiment analysis.ipynb" />
      <div class="fields">
        <div class="twelve wide field">
          <div class="ui fluid multiple search topics-dropdown selection dropdown">
            <input name="topics" type="hidden" value="" />
            <i class="dropdown icon"></i>
            <div class="default text">Topics</div>
            <div class="menu">
              
                <div class="item" data-value="dataset">
                  <span class="text">Type</span>
                  <span class="ui horizontal label topic category-type">dataset</span>
                </div>
              
                <div class="item" data-value="audio">
                  <span class="text">Data Domain</span>
                  <span class="ui horizontal label topic category-data_domain">audio</span>
                </div>
              
                <div class="item" data-value="hacktoberfest">
                  <span class="text">General</span>
                  <span class="ui horizontal label topic category-general">hacktoberfest</span>
                </div>
              
                <div class="item" data-value="model">
                  <span class="text">Type</span>
                  <span class="ui horizontal label topic category-type">model</span>
                </div>
              
                <div class="item" data-value="classification">
                  <span class="text">Task</span>
                  <span class="ui horizontal label topic category-task">classification</span>
                </div>
              
                <div class="item" data-value="nlp">
                  <span class="text">Data Domain</span>
                  <span class="ui horizontal label topic category-data_domain">nlp</span>
                </div>
              
                <div class="item" data-value="vision">
                  <span class="text">Task</span>
                  <span class="ui horizontal label topic category-task">vision</span>
                </div>
              
                <div class="item" data-value="tabular">
                  <span class="text">Data Domain</span>
                  <span class="ui horizontal label topic category-data_domain">tabular</span>
                </div>
              
                <div class="item" data-value="tutorial">
                  <span class="text">General</span>
                  <span class="ui horizontal label topic category-general">tutorial</span>
                </div>
              
                <div class="item" data-value="reproducibility-challenge">
                  <span class="text">General</span>
                  <span class="ui horizontal label topic category-general">reproducibility-challenge</span>
                </div>
              
                <div class="item" data-value="covid">
                  <span class="text">General</span>
                  <span class="ui horizontal label topic category-general">covid</span>
                </div>
              
                <div class="item" data-value="scikit-learn">
                  <span class="text">Framework</span>
                  <span class="ui horizontal label topic category-framework">scikit-learn</span>
                </div>
              
                <div class="item" data-value="image classification">
                  <span class="text">Task</span>
                  <span class="ui horizontal label topic category-task">image classification</span>
                </div>
              
                <div class="item" data-value="emotion">
                  <span class="text">General</span>
                  <span class="ui horizontal label topic category-general">emotion</span>
                </div>
              
                <div class="item" data-value="ensemble learning">
                  <span class="text">General</span>
                  <span class="ui horizontal label topic category-general">ensemble learning</span>
                </div>
              
                <div class="item" data-value="ml pipelines">
                  <span class="text">General</span>
                  <span class="ui horizontal label topic category-general">ml pipelines</span>
                </div>
              
                <div class="item" data-value="python pakage">
                  <span class="text">General</span>
                  <span class="ui horizontal label topic category-general">python pakage</span>
                </div>
              
                <div class="item" data-value="tensorflow">
                  <span class="text">Framework</span>
                  <span class="ui horizontal label topic category-framework">tensorflow</span>
                </div>
              
                <div class="item" data-value="pytorch">
                  <span class="text">Framework</span>
                  <span class="ui horizontal label topic category-framework">pytorch</span>
                </div>
              
                <div class="item" data-value="projects">
                  <span class="text">General</span>
                  <span class="ui horizontal label topic category-general">projects</span>
                </div>
              
                <div class="item" data-value="text classification">
                  <span class="text">Task</span>
                  <span class="ui horizontal label topic category-task">text classification</span>
                </div>
              
                <div class="item" data-value="random forests">
                  <span class="text">General</span>
                  <span class="ui horizontal label topic category-general">random forests</span>
                </div>
              
                <div class="item" data-value="xgboost">
                  <span class="text">General</span>
                  <span class="ui horizontal label topic category-general">xgboost</span>
                </div>
              
                <div class="item" data-value="machine learning">
                  <span class="text">General</span>
                  <span class="ui horizontal label topic category-general">machine learning</span>
                </div>
              
                <div class="item" data-value="julia">
                  <span class="text">General</span>
                  <span class="ui horizontal label topic category-general">julia</span>
                </div>
              
                <div class="item" data-value="corpus">
                  <span class="text">General</span>
                  <span class="ui horizontal label topic category-general">corpus</span>
                </div>
              
                <div class="item" data-value="covid19 vaccine">
                  <span class="text">General</span>
                  <span class="ui horizontal label topic category-general">covid19 vaccine</span>
                </div>
              
                <div class="item" data-value="medical imaging">
                  <span class="text">Data Domain</span>
                  <span class="ui horizontal label topic category-data_domain">medical imaging</span>
                </div>
              
                <div class="item" data-value="eda">
                  <span class="text">General</span>
                  <span class="ui horizontal label topic category-general">eda</span>
                </div>
              
                <div class="item" data-value="flax">
                  <span class="text">General</span>
                  <span class="ui horizontal label topic category-general">flax</span>
                </div>
              
                <div class="item" data-value="computer vision">
                  <span class="text">Data Domain</span>
                  <span class="ui horizontal label topic category-data_domain">computer vision</span>
                </div>
              
                <div class="item" data-value="deeplearning">
                  <span class="text">General</span>
                  <span class="ui horizontal label topic category-general">deeplearning</span>
                </div>
              
                <div class="item" data-value="data visualization">
                  <span class="text">General</span>
                  <span class="ui horizontal label topic category-general">data visualization</span>
                </div>
              
                <div class="item" data-value="africa">
                  <span class="text">General</span>
                  <span class="ui horizontal label topic category-general">africa</span>
                </div>
              
                <div class="item" data-value="data analytics">
                  <span class="text">General</span>
                  <span class="ui horizontal label topic category-general">data analytics</span>
                </div>
              
                <div class="item" data-value="health">
                  <span class="text">General</span>
                  <span class="ui horizontal label topic category-general">health</span>
                </div>
              
                <div class="item" data-value="new upcoming data science projects for 2020">
                  <span class="text">General</span>
                  <span class="ui horizontal label topic category-general">new upcoming data science projects for 2020</span>
                </div>
              
                <div class="item" data-value="bot">
                  <span class="text">General</span>
                  <span class="ui horizontal label topic category-general">bot</span>
                </div>
              
                <div class="item" data-value="python">
                  <span class="text">General</span>
                  <span class="ui horizontal label topic category-general">python</span>
                </div>
              
                <div class="item" data-value="happy">
                  <span class="text">General</span>
                  <span class="ui horizontal label topic category-general">happy</span>
                </div>
              
                <div class="item" data-value="data pipelines">
                  <span class="text">General</span>
                  <span class="ui horizontal label topic category-general">data pipelines</span>
                </div>
              
                <div class="item" data-value="dataframe">
                  <span class="text">General</span>
                  <span class="ui horizontal label topic category-general">dataframe</span>
                </div>
              
                <div class="item" data-value="dagshub">
                  <span class="text">General</span>
                  <span class="ui horizontal label topic category-general">dagshub</span>
                </div>
              
                <div class="item" data-value="python library">
                  <span class="text">General</span>
                  <span class="ui horizontal label topic category-general">python library</span>
                </div>
              
                <div class="item" data-value="jax">
                  <span class="text">General</span>
                  <span class="ui horizontal label topic category-general">jax</span>
                </div>
              
                <div class="item" data-value="dialogpt bot">
                  <span class="text">General</span>
                  <span class="ui horizontal label topic category-general">dialogpt bot</span>
                </div>
              
                <div class="item" data-value="catboost">
                  <span class="text">General</span>
                  <span class="ui horizontal label topic category-general">catboost</span>
                </div>
              
                <div class="item" data-value="music">
                  <span class="text">General</span>
                  <span class="ui horizontal label topic category-general">music</span>
                </div>
              
                <div class="item" data-value="data science">
                  <span class="text">General</span>
                  <span class="ui horizontal label topic category-general">data science</span>
                </div>
              
                <div class="item" data-value="education">
                  <span class="text">General</span>
                  <span class="ui horizontal label topic category-general">education</span>
                </div>
              
                <div class="item" data-value="titanic">
                  <span class="text">General</span>
                  <span class="ui horizontal label topic category-general">titanic</span>
                </div>
              
                <div class="item" data-value="singapore">
                  <span class="text">General</span>
                  <span class="ui horizontal label topic category-general">singapore</span>
                </div>
              
                <div class="item" data-value="wav">
                  <span class="text">General</span>
                  <span class="ui horizontal label topic category-general">wav</span>
                </div>
              
                <div class="item" data-value="orchest">
                  <span class="text">General</span>
                  <span class="ui horizontal label topic category-general">orchest</span>
                </div>
              
                <div class="item" data-value="sad">
                  <span class="text">General</span>
                  <span class="ui horizontal label topic category-general">sad</span>
                </div>
              
                <div class="item" data-value="vaccine">
                  <span class="text">General</span>
                  <span class="ui horizontal label topic category-general">vaccine</span>
                </div>
              
                <div class="item" data-value="depth estimation">
                  <span class="text">Task</span>
                  <span class="ui horizontal label topic category-task">depth estimation</span>
                </div>
              
                <div class="item" data-value="mnist">
                  <span class="text">General</span>
                  <span class="ui horizontal label topic category-general">mnist</span>
                </div>
              
                <div class="item" data-value="data cleaning">
                  <span class="text">General</span>
                  <span class="ui horizontal label topic category-general">data cleaning</span>
                </div>
              
                <div class="item" data-value="neutral">
                  <span class="text">General</span>
                  <span class="ui horizontal label topic category-general">neutral</span>
                </div>
              
                <div class="item" data-value="sustainability">
                  <span class="text">General</span>
                  <span class="ui horizontal label topic category-general">sustainability</span>
                </div>
              
                <div class="item" data-value="data science project">
                  <span class="text">General</span>
                  <span class="ui horizontal label topic category-general">data science project</span>
                </div>
              
                <div class="item" data-value="oversampling">
                  <span class="text">General</span>
                  <span class="ui horizontal label topic category-general">oversampling</span>
                </div>
              
                <div class="item" data-value="discord">
                  <span class="text">General</span>
                  <span class="ui horizontal label topic category-general">discord</span>
                </div>
              
                <div class="item" data-value="news">
                  <span class="text">General</span>
                  <span class="ui horizontal label topic category-general">news</span>
                </div>
              
                <div class="item" data-value="kaggle">
                  <span class="text">General</span>
                  <span class="ui horizontal label topic category-general">kaggle</span>
                </div>
              
                <div class="item" data-value="dagshub as a my favourite data science tool">
                  <span class="text">General</span>
                  <span class="ui horizontal label topic category-general">dagshub as a my favourite data science tool</span>
                </div>
              
                <div class="item" data-value="fastai">
                  <span class="text">General</span>
                  <span class="ui horizontal label topic category-general">fastai</span>
                </div>
              
                <div class="item" data-value="text generation">
                  <span class="text">Task</span>
                  <span class="ui horizontal label topic category-task">text generation</span>
                </div>
              
                <div class="item" data-value="food">
                  <span class="text">General</span>
                  <span class="ui horizontal label topic category-general">food</span>
                </div>
              
                <div class="item" data-value="huggingface">
                  <span class="text">General</span>
                  <span class="ui horizontal label topic category-general">huggingface</span>
                </div>
              
                <div class="item" data-value="cnn">
                  <span class="text">General</span>
                  <span class="ui horizontal label topic category-general">cnn</span>
                </div>
              
                <div class="item" data-value="huggingface transformers">
                  <span class="text">Framework</span>
                  <span class="ui horizontal label topic category-framework">huggingface transformers</span>
                </div>
              
                <div class="item" data-value="3d reconstruction">
                  <span class="text">Task</span>
                  <span class="ui horizontal label topic category-task">3d reconstruction</span>
                </div>
              
                <div class="item" data-value="anomaly detection in surveillance videos">
                  <span class="text">Task</span>
                  <span class="ui horizontal label topic category-task">anomaly detection in surveillance videos</span>
                </div>
              
                <div class="item" data-value="face identification">
                  <span class="text">Task</span>
                  <span class="ui horizontal label topic category-task">face identification</span>
                </div>
              
                <div class="item" data-value="fake news detection">
                  <span class="text">Task</span>
                  <span class="ui horizontal label topic category-task">fake news detection</span>
                </div>
              
                <div class="item" data-value="age estimation">
                  <span class="text">Task</span>
                  <span class="ui horizontal label topic category-task">age estimation</span>
                </div>
              
                <div class="item" data-value="network intrusion detection">
                  <span class="text">Task</span>
                  <span class="ui horizontal label topic category-task">network intrusion detection</span>
                </div>
              
                <div class="item" data-value="probabilistic deep learning">
                  <span class="text">Task</span>
                  <span class="ui horizontal label topic category-task">probabilistic deep learning</span>
                </div>
              
                <div class="item" data-value="stereo matching hand">
                  <span class="text">Task</span>
                  <span class="ui horizontal label topic category-task">stereo matching hand</span>
                </div>
              
                <div class="item" data-value="natural language understanding">
                  <span class="text">Task</span>
                  <span class="ui horizontal label topic category-task">natural language understanding</span>
                </div>
              
                <div class="item" data-value="language identification">
                  <span class="text">Task</span>
                  <span class="ui horizontal label topic category-task">language identification</span>
                </div>
              
                <div class="item" data-value="dialogue state tracking">
                  <span class="text">Task</span>
                  <span class="ui horizontal label topic category-task">dialogue state tracking</span>
                </div>
              
                <div class="item" data-value="scene segmentation">
                  <span class="text">Task</span>
                  <span class="ui horizontal label topic category-task">scene segmentation</span>
                </div>
              
                <div class="item" data-value="news classification">
                  <span class="text">Task</span>
                  <span class="ui horizontal label topic category-task">news classification</span>
                </div>
              
                <div class="item" data-value="image restoration">
                  <span class="text">Task</span>
                  <span class="ui horizontal label topic category-task">image restoration</span>
                </div>
              
                <div class="item" data-value="weakly supervised object detection">
                  <span class="text">Task</span>
                  <span class="ui horizontal label topic category-task">weakly supervised object detection</span>
                </div>
              
                <div class="item" data-value="graph regression">
                  <span class="text">Task</span>
                  <span class="ui horizontal label topic category-task">graph regression</span>
                </div>
              
                <div class="item" data-value="multimodal sentiment analysis">
                  <span class="text">Task</span>
                  <span class="ui horizontal label topic category-task">multimodal sentiment analysis</span>
                </div>
              
                <div class="item" data-value="imputation">
                  <span class="text">Task</span>
                  <span class="ui horizontal label topic category-task">imputation</span>
                </div>
              
                <div class="item" data-value="neural architecture search">
                  <span class="text">Task</span>
                  <span class="ui horizontal label topic category-task">neural architecture search</span>
                </div>
              
                <div class="item" data-value="face detection">
                  <span class="text">Task</span>
                  <span class="ui horizontal label topic category-task">face detection</span>
                </div>
              
                <div class="item" data-value="autonomous vehicles">
                  <span class="text">Task</span>
                  <span class="ui horizontal label topic category-task">autonomous vehicles</span>
                </div>
              
                <div class="item" data-value="sentiment analysis">
                  <span class="text">Task</span>
                  <span class="ui horizontal label topic category-task">sentiment analysis</span>
                </div>
              
                <div class="item" data-value="morphological analysis">
                  <span class="text">Task</span>
                  <span class="ui horizontal label topic category-task">morphological analysis</span>
                </div>
              
                <div class="item" data-value="paraphrase identification">
                  <span class="text">Task</span>
                  <span class="ui horizontal label topic category-task">paraphrase identification</span>
                </div>
              
                <div class="item" data-value="video generation">
                  <span class="text">Task</span>
                  <span class="ui horizontal label topic category-task">video generation</span>
                </div>
              
                <div class="item" data-value="graph generation">
                  <span class="text">Task</span>
                  <span class="ui horizontal label topic category-task">graph generation</span>
                </div>
              
                <div class="item" data-value="change point detection">
                  <span class="text">Task</span>
                  <span class="ui horizontal label topic category-task">change point detection</span>
                </div>
              
                <div class="item" data-value="scene text detection">
                  <span class="text">Task</span>
                  <span class="ui horizontal label topic category-task">scene text detection</span>
                </div>
              
                <div class="item" data-value="motion capture">
                  <span class="text">Task</span>
                  <span class="ui horizontal label topic category-task">motion capture</span>
                </div>
              
                <div class="item" data-value="image compression">
                  <span class="text">Task</span>
                  <span class="ui horizontal label topic category-task">image compression</span>
                </div>
              
                <div class="item" data-value="event-based vision">
                  <span class="text">Task</span>
                  <span class="ui horizontal label topic category-task">event-based vision</span>
                </div>
              
                <div class="item" data-value="misinformation">
                  <span class="text">Task</span>
                  <span class="ui horizontal label topic category-task">misinformation</span>
                </div>
              
                <div class="item" data-value="3d multi-person pose estimation">
                  <span class="text">Task</span>
                  <span class="ui horizontal label topic category-task">3d multi-person pose estimation</span>
                </div>
              
                <div class="item" data-value="cross-lingual transfer">
                  <span class="text">Task</span>
                  <span class="ui horizontal label topic category-task">cross-lingual transfer</span>
                </div>
              
                <div class="item" data-value="machine translation">
                  <span class="text">Task</span>
                  <span class="ui horizontal label topic category-task">machine translation</span>
                </div>
              
                <div class="item" data-value="action detection">
                  <span class="text">Task</span>
                  <span class="ui horizontal label topic category-task">action detection</span>
                </div>
              
                <div class="item" data-value="image matting">
                  <span class="text">Task</span>
                  <span class="ui horizontal label topic category-task">image matting</span>
                </div>
              
                <div class="item" data-value="information retrieval">
                  <span class="text">Task</span>
                  <span class="ui horizontal label topic category-task">information retrieval</span>
                </div>
              
                <div class="item" data-value="disaster response">
                  <span class="text">Task</span>
                  <span class="ui horizontal label topic category-task">disaster response</span>
                </div>
              
                <div class="item" data-value="text-to-image generation">
                  <span class="text">Task</span>
                  <span class="ui horizontal label topic category-task">text-to-image generation</span>
                </div>
              
                <div class="item" data-value="reinforcement learning">
                  <span class="text">Data Domain</span>
                  <span class="ui horizontal label topic category-data_domain">reinforcement learning</span>
                </div>
              
                <div class="item" data-value="answer selection">
                  <span class="text">Task</span>
                  <span class="ui horizontal label topic category-task">answer selection</span>
                </div>
              
                <div class="item" data-value="word sense disambiguation">
                  <span class="text">Task</span>
                  <span class="ui horizontal label topic category-task">word sense disambiguation</span>
                </div>
              
                <div class="item" data-value="dimensionality reduction">
                  <span class="text">Task</span>
                  <span class="ui horizontal label topic category-task">dimensionality reduction</span>
                </div>
              
                <div class="item" data-value="music information retrieval">
                  <span class="text">Task</span>
                  <span class="ui horizontal label topic category-task">music information retrieval</span>
                </div>
              
                <div class="item" data-value="brain tumor segmentation">
                  <span class="text">Task</span>
                  <span class="ui horizontal label topic category-task">brain tumor segmentation</span>
                </div>
              
                <div class="item" data-value="face presentation attack detection">
                  <span class="text">Task</span>
                  <span class="ui horizontal label topic category-task">face presentation attack detection</span>
                </div>
              
                <div class="item" data-value="motion prediction">
                  <span class="text">Task</span>
                  <span class="ui horizontal label topic category-task">motion prediction</span>
                </div>
              
                <div class="item" data-value="stance detection">
                  <span class="text">Task</span>
                  <span class="ui horizontal label topic category-task">stance detection</span>
                </div>
              
                <div class="item" data-value="image/document clustering">
                  <span class="text">Task</span>
                  <span class="ui horizontal label topic category-task">image/document clustering</span>
                </div>
              
                <div class="item" data-value="license plate recognition">
                  <span class="text">Task</span>
                  <span class="ui horizontal label topic category-task">license plate recognition</span>
                </div>
              
                <div class="item" data-value="action anticipation">
                  <span class="text">Task</span>
                  <span class="ui horizontal label topic category-task">action anticipation</span>
                </div>
              
                <div class="item" data-value="continuous control">
                  <span class="text">Task</span>
                  <span class="ui horizontal label topic category-task">continuous control</span>
                </div>
              
                <div class="item" data-value="chinese named entity recognition">
                  <span class="text">Task</span>
                  <span class="ui horizontal label topic category-task">chinese named entity recognition</span>
                </div>
              
                <div class="item" data-value="table-to-text generation">
                  <span class="text">Task</span>
                  <span class="ui horizontal label topic category-task">table-to-text generation</span>
                </div>
              
                <div class="item" data-value="outlier detection">
                  <span class="text">Task</span>
                  <span class="ui horizontal label topic category-task">outlier detection</span>
                </div>
              
                <div class="item" data-value="entity typing">
                  <span class="text">Task</span>
                  <span class="ui horizontal label topic category-task">entity typing</span>
                </div>
              
                <div class="item" data-value="content-based image retrieval">
                  <span class="text">Task</span>
                  <span class="ui horizontal label topic category-task">content-based image retrieval</span>
                </div>
              
                <div class="item" data-value="graph embedding">
                  <span class="text">Task</span>
                  <span class="ui horizontal label topic category-task">graph embedding</span>
                </div>
              
                <div class="item" data-value="multi-person pose estimation">
                  <span class="text">Task</span>
                  <span class="ui horizontal label topic category-task">multi-person pose estimation</span>
                </div>
              
                <div class="item" data-value="image cropping">
                  <span class="text">Task</span>
                  <span class="ui horizontal label topic category-task">image cropping</span>
                </div>
              
                <div class="item" data-value="fairness">
                  <span class="text">Task</span>
                  <span class="ui horizontal label topic category-task">fairness</span>
                </div>
              
                <div class="item" data-value="spacy">
                  <span class="text">Framework</span>
                  <span class="ui horizontal label topic category-framework">spacy</span>
                </div>
              
                <div class="item" data-value="relation classification">
                  <span class="text">Task</span>
                  <span class="ui horizontal label topic category-task">relation classification</span>
                </div>
              
                <div class="item" data-value="keypoint detection">
                  <span class="text">Task</span>
                  <span class="ui horizontal label topic category-task">keypoint detection</span>
                </div>
              
                <div class="item" data-value="point cloud">
                  <span class="text">Data Domain</span>
                  <span class="ui horizontal label topic category-data_domain">point cloud</span>
                </div>
              
                <div class="item" data-value="abstractive text summarization">
                  <span class="text">Task</span>
                  <span class="ui horizontal label topic category-task">abstractive text summarization</span>
                </div>
              
                <div class="item" data-value="node classification">
                  <span class="text">Task</span>
                  <span class="ui horizontal label topic category-task">node classification</span>
                </div>
              
                <div class="item" data-value="conversational response selection">
                  <span class="text">Task</span>
                  <span class="ui horizontal label topic category-task">conversational response selection</span>
                </div>
              
                <div class="item" data-value="super-resolution">
                  <span class="text">Task</span>
                  <span class="ui horizontal label topic category-task">super-resolution</span>
                </div>
              
                <div class="item" data-value="graph">
                  <span class="text">Data Domain</span>
                  <span class="ui horizontal label topic category-data_domain">graph</span>
                </div>
              
                <div class="item" data-value="imitation learning">
                  <span class="text">Task</span>
                  <span class="ui horizontal label topic category-task">imitation learning</span>
                </div>
              
                <div class="item" data-value="face swapping">
                  <span class="text">Task</span>
                  <span class="ui horizontal label topic category-task">face swapping</span>
                </div>
              
                <div class="item" data-value="sentence classification">
                  <span class="text">Task</span>
                  <span class="ui horizontal label topic category-task">sentence classification</span>
                </div>
              
                <div class="item" data-value="decision making">
                  <span class="text">Task</span>
                  <span class="ui horizontal label topic category-task">decision making</span>
                </div>
              
                <div class="item" data-value="structure from motion">
                  <span class="text">Task</span>
                  <span class="ui horizontal label topic category-task">structure from motion</span>
                </div>
              
                <div class="item" data-value="chinese reading comprehension">
                  <span class="text">Task</span>
                  <span class="ui horizontal label topic category-task">chinese reading comprehension</span>
                </div>
              
                <div class="item" data-value="spoken language understanding">
                  <span class="text">Task</span>
                  <span class="ui horizontal label topic category-task">spoken language understanding</span>
                </div>
              
                <div class="item" data-value="click-through rate prediction">
                  <span class="text">Task</span>
                  <span class="ui horizontal label topic category-task">click-through rate prediction</span>
                </div>
              
                <div class="item" data-value="tokenization">
                  <span class="text">Task</span>
                  <span class="ui horizontal label topic category-task">tokenization</span>
                </div>
              
                <div class="item" data-value="dialogue understanding">
                  <span class="text">Task</span>
                  <span class="ui horizontal label topic category-task">dialogue understanding</span>
                </div>
              
                <div class="item" data-value="gaussian processes">
                  <span class="text">Task</span>
                  <span class="ui horizontal label topic category-task">gaussian processes</span>
                </div>
              
                <div class="item" data-value="face alignment">
                  <span class="text">Task</span>
                  <span class="ui horizontal label topic category-task">face alignment</span>
                </div>
              
                <div class="item" data-value="community question answering">
                  <span class="text">Task</span>
                  <span class="ui horizontal label topic category-task">community question answering</span>
                </div>
              
                <div class="item" data-value="fine-grained visual categorization">
                  <span class="text">Task</span>
                  <span class="ui horizontal label topic category-task">fine-grained visual categorization</span>
                </div>
              
                <div class="item" data-value="partial domain adaptation">
                  <span class="text">Task</span>
                  <span class="ui horizontal label topic category-task">partial domain adaptation</span>
                </div>
              
                <div class="item" data-value="cross-modal retrieval">
                  <span class="text">Task</span>
                  <span class="ui horizontal label topic category-task">cross-modal retrieval</span>
                </div>
              
                <div class="item" data-value="zero-shot object detection">
                  <span class="text">Task</span>
                  <span class="ui horizontal label topic category-task">zero-shot object detection</span>
                </div>
              
                <div class="item" data-value="general reinforcement learning">
                  <span class="text">Task</span>
                  <span class="ui horizontal label topic category-task">general reinforcement learning</span>
                </div>
              
                <div class="item" data-value="3d pose estimation using rgbd">
                  <span class="text">Task</span>
                  <span class="ui horizontal label topic category-task">3d pose estimation using rgbd</span>
                </div>
              
                <div class="item" data-value="table detection">
                  <span class="text">Task</span>
                  <span class="ui horizontal label topic category-task">table detection</span>
                </div>
              
                <div class="item" data-value="slot filling">
                  <span class="text">Task</span>
                  <span class="ui horizontal label topic category-task">slot filling</span>
                </div>
              
                <div class="item" data-value="multi-future trajectory prediction">
                  <span class="text">Task</span>
                  <span class="ui horizontal label topic category-task">multi-future trajectory prediction</span>
                </div>
              
                <div class="item" data-value="rectification">
                  <span class="text">Task</span>
                  <span class="ui horizontal label topic category-task">rectification</span>
                </div>
              
                <div class="item" data-value="chunking">
                  <span class="text">Task</span>
                  <span class="ui horizontal label topic category-task">chunking</span>
                </div>
              
                <div class="item" data-value="reading comprehension">
                  <span class="text">Task</span>
                  <span class="ui horizontal label topic category-task">reading comprehension</span>
                </div>
              
                <div class="item" data-value="object detection in aerial images">
                  <span class="text">Task</span>
                  <span class="ui horizontal label topic category-task">object detection in aerial images</span>
                </div>
              
                <div class="item" data-value="real-time object detection">
                  <span class="text">Task</span>
                  <span class="ui horizontal label topic category-task">real-time object detection</span>
                </div>
              
                <div class="item" data-value="variational inference">
                  <span class="text">Task</span>
                  <span class="ui horizontal label topic category-task">variational inference</span>
                </div>
              
                <div class="item" data-value="human detection">
                  <span class="text">Task</span>
                  <span class="ui horizontal label topic category-task">human detection</span>
                </div>
              
                <div class="item" data-value="video salient object detection">
                  <span class="text">Task</span>
                  <span class="ui horizontal label topic category-task">video salient object detection</span>
                </div>
              
                <div class="item" data-value="music modeling">
                  <span class="text">Task</span>
                  <span class="ui horizontal label topic category-task">music modeling</span>
                </div>
              
                <div class="item" data-value="text-image retrieval">
                  <span class="text">Task</span>
                  <span class="ui horizontal label topic category-task">text-image retrieval</span>
                </div>
              
                <div class="item" data-value="face verification">
                  <span class="text">Task</span>
                  <span class="ui horizontal label topic category-task">face verification</span>
                </div>
              
                <div class="item" data-value="dependency parsing">
                  <span class="text">Task</span>
                  <span class="ui horizontal label topic category-task">dependency parsing</span>
                </div>
              
                <div class="item" data-value="scene classification">
                  <span class="text">Task</span>
                  <span class="ui horizontal label topic category-task">scene classification</span>
                </div>
              
                <div class="item" data-value="cross-lingual question answering">
                  <span class="text">Task</span>
                  <span class="ui horizontal label topic category-task">cross-lingual question answering</span>
                </div>
              
                <div class="item" data-value="transliteration">
                  <span class="text">Task</span>
                  <span class="ui horizontal label topic category-task">transliteration</span>
                </div>
              
                <div class="item" data-value="explainable artificial intelligence">
                  <span class="text">Task</span>
                  <span class="ui horizontal label topic category-task">explainable artificial intelligence</span>
                </div>
              
                <div class="item" data-value="compositional zero-shot learning">
                  <span class="text">Task</span>
                  <span class="ui horizontal label topic category-task">compositional zero-shot learning</span>
                </div>
              
                <div class="item" data-value="text simplification">
                  <span class="text">Task</span>
                  <span class="ui horizontal label topic category-task">text simplification</span>
                </div>
              
                <div class="item" data-value="bayesian inference">
                  <span class="text">Task</span>
                  <span class="ui horizontal label topic category-task">bayesian inference</span>
                </div>
              
                <div class="item" data-value="multi-label text classification">
                  <span class="text">Task</span>
                  <span class="ui horizontal label topic category-task">multi-label text classification</span>
                </div>
              
                <div class="item" data-value="autonomous navigation">
                  <span class="text">Task</span>
                  <span class="ui horizontal label topic category-task">autonomous navigation</span>
                </div>
              
                <div class="item" data-value="graph clustering">
                  <span class="text">Task</span>
                  <span class="ui horizontal label topic category-task">graph clustering</span>
                </div>
              
                <div class="item" data-value="multi-agent reinforcement learning">
                  <span class="text">Task</span>
                  <span class="ui horizontal label topic category-task">multi-agent reinforcement learning</span>
                </div>
              
                <div class="item" data-value="action recognition in videos">
                  <span class="text">Task</span>
                  <span class="ui horizontal label topic category-task">action recognition in videos</span>
                </div>
              
                <div class="item" data-value="monocular 3d object detection">
                  <span class="text">Task</span>
                  <span class="ui horizontal label topic category-task">monocular 3d object detection</span>
                </div>
              
                <div class="item" data-value="node clustering">
                  <span class="text">Task</span>
                  <span class="ui horizontal label topic category-task">node clustering</span>
                </div>
              
                <div class="item" data-value="contrastive learning">
                  <span class="text">Task</span>
                  <span class="ui horizontal label topic category-task">contrastive learning</span>
                </div>
              
                <div class="item" data-value="lesion segmentation">
                  <span class="text">Task</span>
                  <span class="ui horizontal label topic category-task">lesion segmentation</span>
                </div>
              
                <div class="item" data-value="music classification">
                  <span class="text">Task</span>
                  <span class="ui horizontal label topic category-task">music classification</span>
                </div>
              
                <div class="item" data-value="ssim">
                  <span class="text">Task</span>
                  <span class="ui horizontal label topic category-task">ssim</span>
                </div>
              
                <div class="item" data-value="network pruning">
                  <span class="text">Task</span>
                  <span class="ui horizontal label topic category-task">network pruning</span>
                </div>
              
                <div class="item" data-value="relation extraction">
                  <span class="text">Task</span>
                  <span class="ui horizontal label topic category-task">relation extraction</span>
                </div>
              
                <div class="item" data-value="paraphrase generation">
                  <span class="text">Task</span>
                  <span class="ui horizontal label topic category-task">paraphrase generation</span>
                </div>
              
                <div class="item" data-value="named entity recognition">
                  <span class="text">Task</span>
                  <span class="ui horizontal label topic category-task">named entity recognition</span>
                </div>
              
                <div class="item" data-value="document ranking">
                  <span class="text">Task</span>
                  <span class="ui horizontal label topic category-task">document ranking</span>
                </div>
              
                <div class="item" data-value="word embeddings">
                  <span class="text">Task</span>
                  <span class="ui horizontal label topic category-task">word embeddings</span>
                </div>
              
                <div class="item" data-value="keyword extraction">
                  <span class="text">Task</span>
                  <span class="ui horizontal label topic category-task">keyword extraction</span>
                </div>
              
                <div class="item" data-value="federated learning">
                  <span class="text">Task</span>
                  <span class="ui horizontal label topic category-task">federated learning</span>
                </div>
              
                <div class="item" data-value="synthetic-to-real translation">
                  <span class="text">Task</span>
                  <span class="ui horizontal label topic category-task">synthetic-to-real translation</span>
                </div>
              
                <div class="item" data-value="face anti-spoofing">
                  <span class="text">Task</span>
                  <span class="ui horizontal label topic category-task">face anti-spoofing</span>
                </div>
              
                <div class="item" data-value="program repair">
                  <span class="text">Task</span>
                  <span class="ui horizontal label topic category-task">program repair</span>
                </div>
              
                <div class="item" data-value="discourse parsing">
                  <span class="text">Task</span>
                  <span class="ui horizontal label topic category-task">discourse parsing</span>
                </div>
              
                <div class="item" data-value="robotic grasping">
                  <span class="text">Task</span>
                  <span class="ui horizontal label topic category-task">robotic grasping</span>
                </div>
              
                <div class="item" data-value="image captioning">
                  <span class="text">Task</span>
                  <span class="ui horizontal label topic category-task">image captioning</span>
                </div>
              
                <div class="item" data-value="eeg">
                  <span class="text">Task</span>
                  <span class="ui horizontal label topic category-task">eeg</span>
                </div>
              
                <div class="item" data-value="visual navigation">
                  <span class="text">Task</span>
                  <span class="ui horizontal label topic category-task">visual navigation</span>
                </div>
              
                <div class="item" data-value="entity disambiguation">
                  <span class="text">Task</span>
                  <span class="ui horizontal label topic category-task">entity disambiguation</span>
                </div>
              
                <div class="item" data-value="nested named entity recognition">
                  <span class="text">Task</span>
                  <span class="ui horizontal label topic category-task">nested named entity recognition</span>
                </div>
              
                <div class="item" data-value="semi-supervised video object segmentation">
                  <span class="text">Task</span>
                  <span class="ui horizontal label topic category-task">semi-supervised video object segmentation</span>
                </div>
              
                <div class="item" data-value="tf lite">
                  <span class="text">Framework</span>
                  <span class="ui horizontal label topic category-framework">tf lite</span>
                </div>
              
                <div class="item" data-value="math word problem solving">
                  <span class="text">Task</span>
                  <span class="ui horizontal label topic category-task">math word problem solving</span>
                </div>
              
                <div class="item" data-value="weakly-supervised semantic segmentation">
                  <span class="text">Task</span>
                  <span class="ui horizontal label topic category-task">weakly-supervised semantic segmentation</span>
                </div>
              
                <div class="item" data-value="intent classification">
                  <span class="text">Task</span>
                  <span class="ui horizontal label topic category-task">intent classification</span>
                </div>
              
                <div class="item" data-value="data-to-text generation">
                  <span class="text">Task</span>
                  <span class="ui horizontal label topic category-task">data-to-text generation</span>
                </div>
              
                <div class="item" data-value="long-tail learning">
                  <span class="text">Task</span>
                  <span class="ui horizontal label topic category-task">long-tail learning</span>
                </div>
              
                <div class="item" data-value="sign language recognition">
                  <span class="text">Task</span>
                  <span class="ui horizontal label topic category-task">sign language recognition</span>
                </div>
              
                <div class="item" data-value="medical image segmentation">
                  <span class="text">Task</span>
                  <span class="ui horizontal label topic category-task">medical image segmentation</span>
                </div>
              
                <div class="item" data-value="event extraction">
                  <span class="text">Task</span>
                  <span class="ui horizontal label topic category-task">event extraction</span>
                </div>
              
                <div class="item" data-value="simultaneous localization and mapping">
                  <span class="text">Task</span>
                  <span class="ui horizontal label topic category-task">simultaneous localization and mapping</span>
                </div>
              
                <div class="item" data-value="speech recognition">
                  <span class="text">Task</span>
                  <span class="ui horizontal label topic category-task">speech recognition</span>
                </div>
              
                <div class="item" data-value="structured prediction">
                  <span class="text">Task</span>
                  <span class="ui horizontal label topic category-task">structured prediction</span>
                </div>
              
                <div class="item" data-value="keyword spotting">
                  <span class="text">Task</span>
                  <span class="ui horizontal label topic category-task">keyword spotting</span>
                </div>
              
                <div class="item" data-value="jpeg artifact correction">
                  <span class="text">Task</span>
                  <span class="ui horizontal label topic category-task">jpeg artifact correction</span>
                </div>
              
                <div class="item" data-value="covid- diagnosis">
                  <span class="text">Task</span>
                  <span class="ui horizontal label topic category-task">covid- diagnosis</span>
                </div>
              
                <div class="item" data-value="multi-class classification">
                  <span class="text">Task</span>
                  <span class="ui horizontal label topic category-task">multi-class classification</span>
                </div>
              
                <div class="item" data-value="action classification">
                  <span class="text">Task</span>
                  <span class="ui horizontal label topic category-task">action classification</span>
                </div>
              
                <div class="item" data-value="image retrieval">
                  <span class="text">Task</span>
                  <span class="ui horizontal label topic category-task">image retrieval</span>
                </div>
              
                <div class="item" data-value="zero-shot learning">
                  <span class="text">Task</span>
                  <span class="ui horizontal label topic category-task">zero-shot learning</span>
                </div>
              
                <div class="item" data-value="text-to-speech synthesis">
                  <span class="text">Task</span>
                  <span class="ui horizontal label topic category-task">text-to-speech synthesis</span>
                </div>
              
                <div class="item" data-value="style transfer">
                  <span class="text">Task</span>
                  <span class="ui horizontal label topic category-task">style transfer</span>
                </div>
              
                <div class="item" data-value="few-shot learning">
                  <span class="text">Task</span>
                  <span class="ui horizontal label topic category-task">few-shot learning</span>
                </div>
              
                <div class="item" data-value="feature engineering">
                  <span class="text">Task</span>
                  <span class="ui horizontal label topic category-task">feature engineering</span>
                </div>
              
                <div class="item" data-value="knowledge graph completion">
                  <span class="text">Task</span>
                  <span class="ui horizontal label topic category-task">knowledge graph completion</span>
                </div>
              
                <div class="item" data-value="speaker diarization">
                  <span class="text">Task</span>
                  <span class="ui horizontal label topic category-task">speaker diarization</span>
                </div>
              
                <div class="item" data-value="traffic sign recognition">
                  <span class="text">Task</span>
                  <span class="ui horizontal label topic category-task">traffic sign recognition</span>
                </div>
              
                <div class="item" data-value="self-driving cars">
                  <span class="text">Task</span>
                  <span class="ui horizontal label topic category-task">self-driving cars</span>
                </div>
              
                <div class="item" data-value="biomedical information retrieval">
                  <span class="text">Task</span>
                  <span class="ui horizontal label topic category-task">biomedical information retrieval</span>
                </div>
              
                <div class="item" data-value="object recognition">
                  <span class="text">Task</span>
                  <span class="ui horizontal label topic category-task">object recognition</span>
                </div>
              
                <div class="item" data-value="weakly-supervised named entity recognition">
                  <span class="text">Task</span>
                  <span class="ui horizontal label topic category-task">weakly-supervised named entity recognition</span>
                </div>
              
                <div class="item" data-value="motion estimation">
                  <span class="text">Task</span>
                  <span class="ui horizontal label topic category-task">motion estimation</span>
                </div>
              
                <div class="item" data-value="depth completion">
                  <span class="text">Task</span>
                  <span class="ui horizontal label topic category-task">depth completion</span>
                </div>
              
                <div class="item" data-value="real-time semantic segmentation">
                  <span class="text">Task</span>
                  <span class="ui horizontal label topic category-task">real-time semantic segmentation</span>
                </div>
              
                <div class="item" data-value="visual odometry">
                  <span class="text">Task</span>
                  <span class="ui horizontal label topic category-task">visual odometry</span>
                </div>
              
                <div class="item" data-value="part-of-speech tagging">
                  <span class="text">Task</span>
                  <span class="ui horizontal label topic category-task">part-of-speech tagging</span>
                </div>
              
                <div class="item" data-value="animal pose estimation">
                  <span class="text">Task</span>
                  <span class="ui horizontal label topic category-task">animal pose estimation</span>
                </div>
              
                <div class="item" data-value="recommendation systems">
                  <span class="text">Task</span>
                  <span class="ui horizontal label topic category-task">recommendation systems</span>
                </div>
              
                <div class="item" data-value="semantic textual similarity">
                  <span class="text">Task</span>
                  <span class="ui horizontal label topic category-task">semantic textual similarity</span>
                </div>
              
                <div class="item" data-value="feature importance">
                  <span class="text">Task</span>
                  <span class="ui horizontal label topic category-task">feature importance</span>
                </div>
              
                <div class="item" data-value="scene recognition">
                  <span class="text">Task</span>
                  <span class="ui horizontal label topic category-task">scene recognition</span>
                </div>
              
                <div class="item" data-value="3d multi-object tracking">
                  <span class="text">Task</span>
                  <span class="ui horizontal label topic category-task">3d multi-object tracking</span>
                </div>
              
                <div class="item" data-value="eye tracking">
                  <span class="text">Task</span>
                  <span class="ui horizontal label topic category-task">eye tracking</span>
                </div>
              
                <div class="item" data-value="code search">
                  <span class="text">Task</span>
                  <span class="ui horizontal label topic category-task">code search</span>
                </div>
              
                <div class="item" data-value="question generation">
                  <span class="text">Task</span>
                  <span class="ui horizontal label topic category-task">question generation</span>
                </div>
              
                <div class="item" data-value="colorization">
                  <span class="text">Task</span>
                  <span class="ui horizontal label topic category-task">colorization</span>
                </div>
              
                <div class="item" data-value="video reconstruction">
                  <span class="text">Task</span>
                  <span class="ui horizontal label topic category-task">video reconstruction</span>
                </div>
              
                <div class="item" data-value="cross-lingual ner">
                  <span class="text">Task</span>
                  <span class="ui horizontal label topic category-task">cross-lingual ner</span>
                </div>
              
                <div class="item" data-value="image generation">
                  <span class="text">Task</span>
                  <span class="ui horizontal label topic category-task">image generation</span>
                </div>
              
                <div class="item" data-value="facial expression recognition">
                  <span class="text">Task</span>
                  <span class="ui horizontal label topic category-task">facial expression recognition</span>
                </div>
              
                <div class="item" data-value="semantic role labeling">
                  <span class="text">Task</span>
                  <span class="ui horizontal label topic category-task">semantic role labeling</span>
                </div>
              
                <div class="item" data-value="data augmentation">
                  <span class="text">Task</span>
                  <span class="ui horizontal label topic category-task">data augmentation</span>
                </div>
              
                <div class="item" data-value="visual question answering">
                  <span class="text">Task</span>
                  <span class="ui horizontal label topic category-task">visual question answering</span>
                </div>
              
                <div class="item" data-value="video classification">
                  <span class="text">Task</span>
                  <span class="ui horizontal label topic category-task">video classification</span>
                </div>
              
                <div class="item" data-value="community detection">
                  <span class="text">Task</span>
                  <span class="ui horizontal label topic category-task">community detection</span>
                </div>
              
                <div class="item" data-value="video prediction">
                  <span class="text">Task</span>
                  <span class="ui horizontal label topic category-task">video prediction</span>
                </div>
              
                <div class="item" data-value="lesion classification">
                  <span class="text">Task</span>
                  <span class="ui horizontal label topic category-task">lesion classification</span>
                </div>
              
                <div class="item" data-value="unsupervised domain adaptation">
                  <span class="text">Task</span>
                  <span class="ui horizontal label topic category-task">unsupervised domain adaptation</span>
                </div>
              
                <div class="item" data-value="graph matching">
                  <span class="text">Task</span>
                  <span class="ui horizontal label topic category-task">graph matching</span>
                </div>
              
                <div class="item" data-value="low-light image enhancement">
                  <span class="text">Task</span>
                  <span class="ui horizontal label topic category-task">low-light image enhancement</span>
                </div>
              
                <div class="item" data-value="common sense reasoning">
                  <span class="text">Task</span>
                  <span class="ui horizontal label topic category-task">common sense reasoning</span>
                </div>
              
                <div class="item" data-value="real-time strategy games">
                  <span class="text">Task</span>
                  <span class="ui horizontal label topic category-task">real-time strategy games</span>
                </div>
              
                <div class="item" data-value="robot navigation">
                  <span class="text">Task</span>
                  <span class="ui horizontal label topic category-task">robot navigation</span>
                </div>
              
                <div class="item" data-value="text style transfer">
                  <span class="text">Task</span>
                  <span class="ui horizontal label topic category-task">text style transfer</span>
                </div>
              
                <div class="item" data-value="video-based person re-identification">
                  <span class="text">Task</span>
                  <span class="ui horizontal label topic category-task">video-based person re-identification</span>
                </div>
              
                <div class="item" data-value="domain generalization">
                  <span class="text">Task</span>
                  <span class="ui horizontal label topic category-task">domain generalization</span>
                </div>
              
                <div class="item" data-value="graph classification">
                  <span class="text">Task</span>
                  <span class="ui horizontal label topic category-task">graph classification</span>
                </div>
              
                <div class="item" data-value="automl">
                  <span class="text">Task</span>
                  <span class="ui horizontal label topic category-task">automl</span>
                </div>
              
                <div class="item" data-value="semantic correspondence">
                  <span class="text">Task</span>
                  <span class="ui horizontal label topic category-task">semantic correspondence</span>
                </div>
              
                <div class="item" data-value="action spotting">
                  <span class="text">Task</span>
                  <span class="ui horizontal label topic category-task">action spotting</span>
                </div>
              
                <div class="item" data-value="machine reading comprehension">
                  <span class="text">Task</span>
                  <span class="ui horizontal label topic category-task">machine reading comprehension</span>
                </div>
              
                <div class="item" data-value="scientific document summarization">
                  <span class="text">Task</span>
                  <span class="ui horizontal label topic category-task">scientific document summarization</span>
                </div>
              
                <div class="item" data-value="visual object tracking">
                  <span class="text">Task</span>
                  <span class="ui horizontal label topic category-task">visual object tracking</span>
                </div>
              
                <div class="item" data-value="weakly supervised action localization">
                  <span class="text">Task</span>
                  <span class="ui horizontal label topic category-task">weakly supervised action localization</span>
                </div>
              
                <div class="item" data-value="graph representation learning">
                  <span class="text">Task</span>
                  <span class="ui horizontal label topic category-task">graph representation learning</span>
                </div>
              
                <div class="item" data-value="3d point cloud classification">
                  <span class="text">Task</span>
                  <span class="ui horizontal label topic category-task">3d point cloud classification</span>
                </div>
              
                <div class="item" data-value="trajectory forecasting">
                  <span class="text">Task</span>
                  <span class="ui horizontal label topic category-task">trajectory forecasting</span>
                </div>
              
                <div class="item" data-value="color image denoising">
                  <span class="text">Task</span>
                  <span class="ui horizontal label topic category-task">color image denoising</span>
                </div>
              
                <div class="item" data-value="multimodal activity recognition">
                  <span class="text">Task</span>
                  <span class="ui horizontal label topic category-task">multimodal activity recognition</span>
                </div>
              
                <div class="item" data-value="adversarial attack">
                  <span class="text">Task</span>
                  <span class="ui horizontal label topic category-task">adversarial attack</span>
                </div>
              
                <div class="item" data-value="deepfake detection">
                  <span class="text">Task</span>
                  <span class="ui horizontal label topic category-task">deepfake detection</span>
                </div>
              
                <div class="item" data-value="head pose estimation">
                  <span class="text">Task</span>
                  <span class="ui horizontal label topic category-task">head pose estimation</span>
                </div>
              
                <div class="item" data-value="video captioning">
                  <span class="text">Task</span>
                  <span class="ui horizontal label topic category-task">video captioning</span>
                </div>
              
                <div class="item" data-value="time series">
                  <span class="text">Task</span>
                  <span class="ui horizontal label topic category-task">time series</span>
                </div>
              
                <div class="item" data-value="knowledge base question answering">
                  <span class="text">Task</span>
                  <span class="ui horizontal label topic category-task">knowledge base question answering</span>
                </div>
              
                <div class="item" data-value="open information extraction">
                  <span class="text">Task</span>
                  <span class="ui horizontal label topic category-task">open information extraction</span>
                </div>
              
                <div class="item" data-value="audio tagging">
                  <span class="text">Task</span>
                  <span class="ui horizontal label topic category-task">audio tagging</span>
                </div>
              
                <div class="item" data-value="visual localization">
                  <span class="text">Task</span>
                  <span class="ui horizontal label topic category-task">visual localization</span>
                </div>
              
                <div class="item" data-value="continual learning">
                  <span class="text">Task</span>
                  <span class="ui horizontal label topic category-task">continual learning</span>
                </div>
              
                <div class="item" data-value="code generation">
                  <span class="text">Task</span>
                  <span class="ui horizontal label topic category-task">code generation</span>
                </div>
              
                <div class="item" data-value="topic models">
                  <span class="text">Task</span>
                  <span class="ui horizontal label topic category-task">topic models</span>
                </div>
              
                <div class="item" data-value="link prediction">
                  <span class="text">Task</span>
                  <span class="ui horizontal label topic category-task">link prediction</span>
                </div>
              
                <div class="item" data-value="abuse detection">
                  <span class="text">Task</span>
                  <span class="ui horizontal label topic category-task">abuse detection</span>
                </div>
              
                <div class="item" data-value="constituency parsing">
                  <span class="text">Task</span>
                  <span class="ui horizontal label topic category-task">constituency parsing</span>
                </div>
              
                <div class="item" data-value="visual reasoning">
                  <span class="text">Task</span>
                  <span class="ui horizontal label topic category-task">visual reasoning</span>
                </div>
              
                <div class="item" data-value="object classification">
                  <span class="text">Task</span>
                  <span class="ui horizontal label topic category-task">object classification</span>
                </div>
              
                <div class="item" data-value="3d pose estimation using rgb">
                  <span class="text">Task</span>
                  <span class="ui horizontal label topic category-task">3d pose estimation using rgb</span>
                </div>
              
                <div class="item" data-value="gaze estimation">
                  <span class="text">Task</span>
                  <span class="ui horizontal label topic category-task">gaze estimation</span>
                </div>
              
                <div class="item" data-value="lane detection">
                  <span class="text">Task</span>
                  <span class="ui horizontal label topic category-task">lane detection</span>
                </div>
              
                <div class="item" data-value="semantic parsing">
                  <span class="text">Task</span>
                  <span class="ui horizontal label topic category-task">semantic parsing</span>
                </div>
              
                <div class="item" data-value="scene text recognition">
                  <span class="text">Task</span>
                  <span class="ui horizontal label topic category-task">scene text recognition</span>
                </div>
              
                <div class="item" data-value="point cloud registration">
                  <span class="text">Task</span>
                  <span class="ui horizontal label topic category-task">point cloud registration</span>
                </div>
              
                <div class="item" data-value="time series analysis">
                  <span class="text">Task</span>
                  <span class="ui horizontal label topic category-task">time series analysis</span>
                </div>
              
                <div class="item" data-value="music source separation">
                  <span class="text">Task</span>
                  <span class="ui horizontal label topic category-task">music source separation</span>
                </div>
              
                <div class="item" data-value="online multi-object tracking">
                  <span class="text">Task</span>
                  <span class="ui horizontal label topic category-task">online multi-object tracking</span>
                </div>
              
                <div class="item" data-value="emotion recognition in conversation">
                  <span class="text">Task</span>
                  <span class="ui horizontal label topic category-task">emotion recognition in conversation</span>
                </div>
              
                <div class="item" data-value="fine-grained image classification">
                  <span class="text">Task</span>
                  <span class="ui horizontal label topic category-task">fine-grained image classification</span>
                </div>
              
                <div class="item" data-value="visual place recognition">
                  <span class="text">Task</span>
                  <span class="ui horizontal label topic category-task">visual place recognition</span>
                </div>
              
                <div class="item" data-value="saliency prediction">
                  <span class="text">Task</span>
                  <span class="ui horizontal label topic category-task">saliency prediction</span>
                </div>
              
                <div class="item" data-value="transfer learning">
                  <span class="text">Task</span>
                  <span class="ui horizontal label topic category-task">transfer learning</span>
                </div>
              
                <div class="item" data-value="sarcasm detection">
                  <span class="text">Task</span>
                  <span class="ui horizontal label topic category-task">sarcasm detection</span>
                </div>
              
                <div class="item" data-value="3d human reconstruction">
                  <span class="text">Task</span>
                  <span class="ui horizontal label topic category-task">3d human reconstruction</span>
                </div>
              
                <div class="item" data-value="boundary detection">
                  <span class="text">Task</span>
                  <span class="ui horizontal label topic category-task">boundary detection</span>
                </div>
              
                <div class="item" data-value="core set discovery">
                  <span class="text">Task</span>
                  <span class="ui horizontal label topic category-task">core set discovery</span>
                </div>
              
                <div class="item" data-value="document layout analysis">
                  <span class="text">Task</span>
                  <span class="ui horizontal label topic category-task">document layout analysis</span>
                </div>
              
                <div class="item" data-value="classification with binary neural network">
                  <span class="text">Task</span>
                  <span class="ui horizontal label topic category-task">classification with binary neural network</span>
                </div>
              
                <div class="item" data-value="object counting">
                  <span class="text">Task</span>
                  <span class="ui horizontal label topic category-task">object counting</span>
                </div>
              
                <div class="item" data-value="egocentric activity recognition">
                  <span class="text">Task</span>
                  <span class="ui horizontal label topic category-task">egocentric activity recognition</span>
                </div>
              
                <div class="item" data-value="product recommendation">
                  <span class="text">Task</span>
                  <span class="ui horizontal label topic category-task">product recommendation</span>
                </div>
              
                <div class="item" data-value="food recognition">
                  <span class="text">Task</span>
                  <span class="ui horizontal label topic category-task">food recognition</span>
                </div>
              
                <div class="item" data-value="action quality assessment">
                  <span class="text">Task</span>
                  <span class="ui horizontal label topic category-task">action quality assessment</span>
                </div>
              
                <div class="item" data-value="unsupervised video object segmentation">
                  <span class="text">Task</span>
                  <span class="ui horizontal label topic category-task">unsupervised video object segmentation</span>
                </div>
              
                <div class="item" data-value="sound event detection">
                  <span class="text">Task</span>
                  <span class="ui horizontal label topic category-task">sound event detection</span>
                </div>
              
                <div class="item" data-value="source code summarization">
                  <span class="text">Task</span>
                  <span class="ui horizontal label topic category-task">source code summarization</span>
                </div>
              
                <div class="item" data-value="3d object recognition">
                  <span class="text">Task</span>
                  <span class="ui horizontal label topic category-task">3d object recognition</span>
                </div>
              
                <div class="item" data-value="speech separation">
                  <span class="text">Task</span>
                  <span class="ui horizontal label topic category-task">speech separation</span>
                </div>
              
                <div class="item" data-value="curriculum learning">
                  <span class="text">Task</span>
                  <span class="ui horizontal label topic category-task">curriculum learning</span>
                </div>
              
                <div class="item" data-value="3d object tracking">
                  <span class="text">Task</span>
                  <span class="ui horizontal label topic category-task">3d object tracking</span>
                </div>
              
                <div class="item" data-value="jax / flax">
                  <span class="text">Framework</span>
                  <span class="ui horizontal label topic category-framework">jax / flax</span>
                </div>
              
                <div class="item" data-value="audio source separation">
                  <span class="text">Task</span>
                  <span class="ui horizontal label topic category-task">audio source separation</span>
                </div>
              
                <div class="item" data-value="abnormal event detection in video">
                  <span class="text">Task</span>
                  <span class="ui horizontal label topic category-task">abnormal event detection in video</span>
                </div>
              
                <div class="item" data-value="object localization">
                  <span class="text">Task</span>
                  <span class="ui horizontal label topic category-task">object localization</span>
                </div>
              
                <div class="item" data-value="scene flow estimation">
                  <span class="text">Task</span>
                  <span class="ui horizontal label topic category-task">scene flow estimation</span>
                </div>
              
                <div class="item" data-value="video inpainting">
                  <span class="text">Task</span>
                  <span class="ui horizontal label topic category-task">video inpainting</span>
                </div>
              
                <div class="item" data-value="multimodal unsupervised image-to-image translation">
                  <span class="text">Task</span>
                  <span class="ui horizontal label topic category-task">multimodal unsupervised image-to-image translation</span>
                </div>
              
                <div class="item" data-value="language modelling">
                  <span class="text">Task</span>
                  <span class="ui horizontal label topic category-task">language modelling</span>
                </div>
              
                <div class="item" data-value="face sketch synthesis">
                  <span class="text">Task</span>
                  <span class="ui horizontal label topic category-task">face sketch synthesis</span>
                </div>
              
                <div class="item" data-value="optical flow estimation">
                  <span class="text">Task</span>
                  <span class="ui horizontal label topic category-task">optical flow estimation</span>
                </div>
              
                <div class="item" data-value="monocular depth estimation">
                  <span class="text">Task</span>
                  <span class="ui horizontal label topic category-task">monocular depth estimation</span>
                </div>
              
                <div class="item" data-value="3d face reconstruction">
                  <span class="text">Task</span>
                  <span class="ui horizontal label topic category-task">3d face reconstruction</span>
                </div>
              
                <div class="item" data-value="multiple object tracking">
                  <span class="text">Task</span>
                  <span class="ui horizontal label topic category-task">multiple object tracking</span>
                </div>
              
                <div class="item" data-value="temporal action localization">
                  <span class="text">Task</span>
                  <span class="ui horizontal label topic category-task">temporal action localization</span>
                </div>
              
                <div class="item" data-value="colorectal polyps characterization">
                  <span class="text">Task</span>
                  <span class="ui horizontal label topic category-task">colorectal polyps characterization</span>
                </div>
              
                <div class="item" data-value="document classification">
                  <span class="text">Task</span>
                  <span class="ui horizontal label topic category-task">document classification</span>
                </div>
              
                <div class="item" data-value="dense video captioning">
                  <span class="text">Task</span>
                  <span class="ui horizontal label topic category-task">dense video captioning</span>
                </div>
              
                <div class="item" data-value="facial landmark detection">
                  <span class="text">Task</span>
                  <span class="ui horizontal label topic category-task">facial landmark detection</span>
                </div>
              
                <div class="item" data-value="abusive language">
                  <span class="text">Task</span>
                  <span class="ui horizontal label topic category-task">abusive language</span>
                </div>
              
                <div class="item" data-value="multimodal machine translation">
                  <span class="text">Task</span>
                  <span class="ui horizontal label topic category-task">multimodal machine translation</span>
                </div>
              
                <div class="item" data-value="active learning">
                  <span class="text">Task</span>
                  <span class="ui horizontal label topic category-task">active learning</span>
                </div>
              
                <div class="item" data-value="lexical entailment">
                  <span class="text">Task</span>
                  <span class="ui horizontal label topic category-task">lexical entailment</span>
                </div>
              
                <div class="item" data-value="patch matching">
                  <span class="text">Task</span>
                  <span class="ui horizontal label topic category-task">patch matching</span>
                </div>
              
                <div class="item" data-value="bias detection">
                  <span class="text">Task</span>
                  <span class="ui horizontal label topic category-task">bias detection</span>
                </div>
              
                <div class="item" data-value="activity detection">
                  <span class="text">Task</span>
                  <span class="ui horizontal label topic category-task">activity detection</span>
                </div>
              
                <div class="item" data-value="grasp contact prediction">
                  <span class="text">Task</span>
                  <span class="ui horizontal label topic category-task">grasp contact prediction</span>
                </div>
              
                <div class="item" data-value="activity recognition">
                  <span class="text">Task</span>
                  <span class="ui horizontal label topic category-task">activity recognition</span>
                </div>
              
                <div class="item" data-value="automatic post-editing">
                  <span class="text">Task</span>
                  <span class="ui horizontal label topic category-task">automatic post-editing</span>
                </div>
              
                <div class="item" data-value="dictionary learning">
                  <span class="text">Task</span>
                  <span class="ui horizontal label topic category-task">dictionary learning</span>
                </div>
              
                <div class="item" data-value="remote sensing image classification">
                  <span class="text">Task</span>
                  <span class="ui horizontal label topic category-task">remote sensing image classification</span>
                </div>
              
                <div class="item" data-value="video understanding">
                  <span class="text">Task</span>
                  <span class="ui horizontal label topic category-task">video understanding</span>
                </div>
              
                <div class="item" data-value="binarization">
                  <span class="text">Task</span>
                  <span class="ui horizontal label topic category-task">binarization</span>
                </div>
              
                <div class="item" data-value="unsupervised object segmentation">
                  <span class="text">Task</span>
                  <span class="ui horizontal label topic category-task">unsupervised object segmentation</span>
                </div>
              
                <div class="item" data-value="face model">
                  <span class="text">Task</span>
                  <span class="ui horizontal label topic category-task">face model</span>
                </div>
              
                <div class="item" data-value="classification with binary weight network">
                  <span class="text">Task</span>
                  <span class="ui horizontal label topic category-task">classification with binary weight network</span>
                </div>
              
                <div class="item" data-value="one-shot learning">
                  <span class="text">Task</span>
                  <span class="ui horizontal label topic category-task">one-shot learning</span>
                </div>
              
                <div class="item" data-value="speech enhancement">
                  <span class="text">Task</span>
                  <span class="ui horizontal label topic category-task">speech enhancement</span>
                </div>
              
                <div class="item" data-value="deblurring">
                  <span class="text">Task</span>
                  <span class="ui horizontal label topic category-task">deblurring</span>
                </div>
              
                <div class="item" data-value="video frame interpolation">
                  <span class="text">Task</span>
                  <span class="ui horizontal label topic category-task">video frame interpolation</span>
                </div>
              
                <div class="item" data-value="automated theorem proving">
                  <span class="text">Task</span>
                  <span class="ui horizontal label topic category-task">automated theorem proving</span>
                </div>
              
                <div class="item" data-value="chatbot">
                  <span class="text">Task</span>
                  <span class="ui horizontal label topic category-task">chatbot</span>
                </div>
              
                <div class="item" data-value="human action generation">
                  <span class="text">Task</span>
                  <span class="ui horizontal label topic category-task">human action generation</span>
                </div>
              
                <div class="item" data-value="retinal vessel segmentation">
                  <span class="text">Task</span>
                  <span class="ui horizontal label topic category-task">retinal vessel segmentation</span>
                </div>
              
                <div class="item" data-value="emotion recognition">
                  <span class="text">Task</span>
                  <span class="ui horizontal label topic category-task">emotion recognition</span>
                </div>
              
                <div class="item" data-value="scene text">
                  <span class="text">Task</span>
                  <span class="ui horizontal label topic category-task">scene text</span>
                </div>
              
                <div class="item" data-value="feature selection">
                  <span class="text">Task</span>
                  <span class="ui horizontal label topic category-task">feature selection</span>
                </div>
              
                <div class="item" data-value="adversarial defense">
                  <span class="text">Task</span>
                  <span class="ui horizontal label topic category-task">adversarial defense</span>
                </div>
              
                <div class="item" data-value="depression detection">
                  <span class="text">Task</span>
                  <span class="ui horizontal label topic category-task">depression detection</span>
                </div>
              
                <div class="item" data-value="natural language inference">
                  <span class="text">Task</span>
                  <span class="ui horizontal label topic category-task">natural language inference</span>
                </div>
              
                <div class="item" data-value="face recognition">
                  <span class="text">Task</span>
                  <span class="ui horizontal label topic category-task">face recognition</span>
                </div>
              
                <div class="item" data-value="scientific results extraction">
                  <span class="text">Task</span>
                  <span class="ui horizontal label topic category-task">scientific results extraction</span>
                </div>
              
                <div class="item" data-value="multi-label classification">
                  <span class="text">Task</span>
                  <span class="ui horizontal label topic category-task">multi-label classification</span>
                </div>
              
                <div class="item" data-value="fact verification">
                  <span class="text">Task</span>
                  <span class="ui horizontal label topic category-task">fact verification</span>
                </div>
              
                <div class="item" data-value="computed tomography (ct)">
                  <span class="text">Task</span>
                  <span class="ui horizontal label topic category-task">computed tomography (ct)</span>
                </div>
              
                <div class="item" data-value="human part segmentation">
                  <span class="text">Task</span>
                  <span class="ui horizontal label topic category-task">human part segmentation</span>
                </div>
              
                <div class="item" data-value="homography estimation">
                  <span class="text">Task</span>
                  <span class="ui horizontal label topic category-task">homography estimation</span>
                </div>
              
                <div class="item" data-value="image denoising">
                  <span class="text">Task</span>
                  <span class="ui horizontal label topic category-task">image denoising</span>
                </div>
              
                <div class="item" data-value="offline rl">
                  <span class="text">Task</span>
                  <span class="ui horizontal label topic category-task">offline rl</span>
                </div>
              
                <div class="item" data-value="3d pose estimation">
                  <span class="text">Task</span>
                  <span class="ui horizontal label topic category-task">3d pose estimation</span>
                </div>
              
                <div class="item" data-value="video object detection">
                  <span class="text">Task</span>
                  <span class="ui horizontal label topic category-task">video object detection</span>
                </div>
              
                <div class="item" data-value="goal-oriented dialog">
                  <span class="text">Task</span>
                  <span class="ui horizontal label topic category-task">goal-oriented dialog</span>
                </div>
              
                <div class="item" data-value="handwriting recognition">
                  <span class="text">Task</span>
                  <span class="ui horizontal label topic category-task">handwriting recognition</span>
                </div>
              
                <div class="item" data-value="referring expression segmentation">
                  <span class="text">Task</span>
                  <span class="ui horizontal label topic category-task">referring expression segmentation</span>
                </div>
              
                <div class="item" data-value="gesture recognition">
                  <span class="text">Task</span>
                  <span class="ui horizontal label topic category-task">gesture recognition</span>
                </div>
              
                <div class="item" data-value="person search">
                  <span class="text">Task</span>
                  <span class="ui horizontal label topic category-task">person search</span>
                </div>
              
                <div class="item" data-value="pose estimation">
                  <span class="text">Task</span>
                  <span class="ui horizontal label topic category-task">pose estimation</span>
                </div>
              
                <div class="item" data-value="sketch-based image retrieval">
                  <span class="text">Task</span>
                  <span class="ui horizontal label topic category-task">sketch-based image retrieval</span>
                </div>
              
                <div class="item" data-value="semantic similarity">
                  <span class="text">Task</span>
                  <span class="ui horizontal label topic category-task">semantic similarity</span>
                </div>
              
                <div class="item" data-value="clique prediction">
                  <span class="text">Task</span>
                  <span class="ui horizontal label topic category-task">clique prediction</span>
                </div>
              
                <div class="item" data-value="video segmentation">
                  <span class="text">Task</span>
                  <span class="ui horizontal label topic category-task">video segmentation</span>
                </div>
              
                <div class="item" data-value="generalized zero-shot learning">
                  <span class="text">Task</span>
                  <span class="ui horizontal label topic category-task">generalized zero-shot learning</span>
                </div>
              
                <div class="item" data-value="multi-task learning">
                  <span class="text">Task</span>
                  <span class="ui horizontal label topic category-task">multi-task learning</span>
                </div>
              
                <div class="item" data-value="visual tracking">
                  <span class="text">Task</span>
                  <span class="ui horizontal label topic category-task">visual tracking</span>
                </div>
              
                <div class="item" data-value="aesthetics quality assessment">
                  <span class="text">Task</span>
                  <span class="ui horizontal label topic category-task">aesthetics quality assessment</span>
                </div>
              
                <div class="item" data-value="human-object interaction detection">
                  <span class="text">Task</span>
                  <span class="ui horizontal label topic category-task">human-object interaction detection</span>
                </div>
              
                <div class="item" data-value="multivariate time series forecasting">
                  <span class="text">Task</span>
                  <span class="ui horizontal label topic category-task">multivariate time series forecasting</span>
                </div>
              
                <div class="item" data-value="sentence embedding">
                  <span class="text">Task</span>
                  <span class="ui horizontal label topic category-task">sentence embedding</span>
                </div>
              
                <div class="item" data-value="question answering">
                  <span class="text">Task</span>
                  <span class="ui horizontal label topic category-task">question answering</span>
                </div>
              
                <div class="item" data-value="cross-view image-to-image translation">
                  <span class="text">Task</span>
                  <span class="ui horizontal label topic category-task">cross-view image-to-image translation</span>
                </div>
              
                <div class="item" data-value="kg-to-text generation">
                  <span class="text">Task</span>
                  <span class="ui horizontal label topic category-task">kg-to-text generation</span>
                </div>
              
                <div class="item" data-value="rgb salient object detection">
                  <span class="text">Task</span>
                  <span class="ui horizontal label topic category-task">rgb salient object detection</span>
                </div>
              
                <div class="item" data-value="crowd counting">
                  <span class="text">Task</span>
                  <span class="ui horizontal label topic category-task">crowd counting</span>
                </div>
              
                <div class="item" data-value="latent variable models">
                  <span class="text">Task</span>
                  <span class="ui horizontal label topic category-task">latent variable models</span>
                </div>
              
                <div class="item" data-value="newreposistory for to learning - how dagshub works">
                  <span class="text">General</span>
                  <span class="ui horizontal label topic category-general">newreposistory for to learning - how dagshub works</span>
                </div>
              
                <div class="item" data-value="mathematical question answering">
                  <span class="text">Task</span>
                  <span class="ui horizontal label topic category-task">mathematical question answering</span>
                </div>
              
                <div class="item" data-value="autonomous driving">
                  <span class="text">Task</span>
                  <span class="ui horizontal label topic category-task">autonomous driving</span>
                </div>
              
                <div class="item" data-value="multiple instance learning">
                  <span class="text">Task</span>
                  <span class="ui horizontal label topic category-task">multiple instance learning</span>
                </div>
              
                <div class="item" data-value="color constancy">
                  <span class="text">Task</span>
                  <span class="ui horizontal label topic category-task">color constancy</span>
                </div>
              
                <div class="item" data-value="instance segmentation">
                  <span class="text">Task</span>
                  <span class="ui horizontal label topic category-task">instance segmentation</span>
                </div>
              
                <div class="item" data-value="action unit detection">
                  <span class="text">Task</span>
                  <span class="ui horizontal label topic category-task">action unit detection</span>
                </div>
              
                <div class="item" data-value="stochastic optimization">
                  <span class="text">Task</span>
                  <span class="ui horizontal label topic category-task">stochastic optimization</span>
                </div>
              
                <div class="item" data-value="pedestrian attribute recognition">
                  <span class="text">Task</span>
                  <span class="ui horizontal label topic category-task">pedestrian attribute recognition</span>
                </div>
              
                <div class="item" data-value="sentence embeddings">
                  <span class="text">Task</span>
                  <span class="ui horizontal label topic category-task">sentence embeddings</span>
                </div>
              
                <div class="item" data-value="joint entity and relation extraction">
                  <span class="text">Task</span>
                  <span class="ui horizontal label topic category-task">joint entity and relation extraction</span>
                </div>
              
                <div class="item" data-value="motion segmentation">
                  <span class="text">Task</span>
                  <span class="ui horizontal label topic category-task">motion segmentation</span>
                </div>
              
                <div class="item" data-value="emotion classification">
                  <span class="text">Task</span>
                  <span class="ui horizontal label topic category-task">emotion classification</span>
                </div>
              
                <div class="item" data-value="fact checking">
                  <span class="text">Task</span>
                  <span class="ui horizontal label topic category-task">fact checking</span>
                </div>
              
                <div class="item" data-value="saliency detection">
                  <span class="text">Task</span>
                  <span class="ui horizontal label topic category-task">saliency detection</span>
                </div>
              
                <div class="item" data-value="few-shot image classification">
                  <span class="text">Task</span>
                  <span class="ui horizontal label topic category-task">few-shot image classification</span>
                </div>
              
                <div class="item" data-value="dense pixel correspondence estimation">
                  <span class="text">Task</span>
                  <span class="ui horizontal label topic category-task">dense pixel correspondence estimation</span>
                </div>
              
                <div class="item" data-value="scene generation">
                  <span class="text">Task</span>
                  <span class="ui horizontal label topic category-task">scene generation</span>
                </div>
              
                <div class="item" data-value="grammatical error correction">
                  <span class="text">Task</span>
                  <span class="ui horizontal label topic category-task">grammatical error correction</span>
                </div>
              
                <div class="item" data-value="minecraft">
                  <span class="text">Task</span>
                  <span class="ui horizontal label topic category-task">minecraft</span>
                </div>
              
                <div class="item" data-value="music transcription">
                  <span class="text">Task</span>
                  <span class="ui horizontal label topic category-task">music transcription</span>
                </div>
              
                <div class="item" data-value="hate speech detection">
                  <span class="text">Task</span>
                  <span class="ui horizontal label topic category-task">hate speech detection</span>
                </div>
              
                <div class="item" data-value="meta-learning">
                  <span class="text">Task</span>
                  <span class="ui horizontal label topic category-task">meta-learning</span>
                </div>
              
                <div class="item" data-value="semantic segmentation">
                  <span class="text">Task</span>
                  <span class="ui horizontal label topic category-task">semantic segmentation</span>
                </div>
              
                <div class="item" data-value="video retrieval">
                  <span class="text">Task</span>
                  <span class="ui horizontal label topic category-task">video retrieval</span>
                </div>
              
                <div class="item" data-value="action segmentation">
                  <span class="text">Task</span>
                  <span class="ui horizontal label topic category-task">action segmentation</span>
                </div>
              
                <div class="item" data-value="atari games">
                  <span class="text">Task</span>
                  <span class="ui horizontal label topic category-task">atari games</span>
                </div>
              
                <div class="item" data-value="defect detection">
                  <span class="text">Task</span>
                  <span class="ui horizontal label topic category-task">defect detection</span>
                </div>
              
                <div class="item" data-value="conditional image generation">
                  <span class="text">Task</span>
                  <span class="ui horizontal label topic category-task">conditional image generation</span>
                </div>
              
                <div class="item" data-value="document summarization">
                  <span class="text">Task</span>
                  <span class="ui horizontal label topic category-task">document summarization</span>
                </div>
              
                <div class="item" data-value="coreference resolution">
                  <span class="text">Task</span>
                  <span class="ui horizontal label topic category-task">coreference resolution</span>
                </div>
              
                <div class="item" data-value="dialogue generation">
                  <span class="text">Task</span>
                  <span class="ui horizontal label topic category-task">dialogue generation</span>
                </div>
              
                <div class="item" data-value="skeleton based action recognition">
                  <span class="text">Task</span>
                  <span class="ui horizontal label topic category-task">skeleton based action recognition</span>
                </div>
              
                <div class="item" data-value="3d human pose estimation">
                  <span class="text">Task</span>
                  <span class="ui horizontal label topic category-task">3d human pose estimation</span>
                </div>
              
                <div class="item" data-value="trajectory prediction">
                  <span class="text">Task</span>
                  <span class="ui horizontal label topic category-task">trajectory prediction</span>
                </div>
              
                <div class="item" data-value="network embedding">
                  <span class="text">Task</span>
                  <span class="ui horizontal label topic category-task">network embedding</span>
                </div>
              
                <div class="item" data-value="3d object detection">
                  <span class="text">Task</span>
                  <span class="ui horizontal label topic category-task">3d object detection</span>
                </div>
              
                <div class="item" data-value="density estimation">
                  <span class="text">Task</span>
                  <span class="ui horizontal label topic category-task">density estimation</span>
                </div>
              
                <div class="item" data-value="starcraft">
                  <span class="text">Task</span>
                  <span class="ui horizontal label topic category-task">starcraft</span>
                </div>
              
                <div class="item" data-value="tumor segmentation">
                  <span class="text">Task</span>
                  <span class="ui horizontal label topic category-task">tumor segmentation</span>
                </div>
              
                <div class="item" data-value="image stitching">
                  <span class="text">Task</span>
                  <span class="ui horizontal label topic category-task">image stitching</span>
                </div>
              
                <div class="item" data-value="task-oriented dialogue systems">
                  <span class="text">Task</span>
                  <span class="ui horizontal label topic category-task">task-oriented dialogue systems</span>
                </div>
              
                <div class="item" data-value="sequence-to-sequence language modeling">
                  <span class="text">Task</span>
                  <span class="ui horizontal label topic category-task">sequence-to-sequence language modeling</span>
                </div>
              
                <div class="item" data-value="audio generation">
                  <span class="text">Task</span>
                  <span class="ui horizontal label topic category-task">audio generation</span>
                </div>
              
                <div class="item" data-value="rgb-d salient object detection">
                  <span class="text">Task</span>
                  <span class="ui horizontal label topic category-task">rgb-d salient object detection</span>
                </div>
              
                <div class="item" data-value="entity linking">
                  <span class="text">Task</span>
                  <span class="ui horizontal label topic category-task">entity linking</span>
                </div>
              
                <div class="item" data-value="time series forecasting">
                  <span class="text">Task</span>
                  <span class="ui horizontal label topic category-task">time series forecasting</span>
                </div>
              
                <div class="item" data-value="lipreading">
                  <span class="text">Task</span>
                  <span class="ui horizontal label topic category-task">lipreading</span>
                </div>
              
                <div class="item" data-value="human robot interaction">
                  <span class="text">Task</span>
                  <span class="ui horizontal label topic category-task">human robot interaction</span>
                </div>
              
                <div class="item" data-value="small data image classification">
                  <span class="text">Task</span>
                  <span class="ui horizontal label topic category-task">small data image classification</span>
                </div>
              
                <div class="item" data-value="music generation">
                  <span class="text">Task</span>
                  <span class="ui horizontal label topic category-task">music generation</span>
                </div>
              
                <div class="item" data-value="semi-supervised image classification">
                  <span class="text">Task</span>
                  <span class="ui horizontal label topic category-task">semi-supervised image classification</span>
                </div>
              
                <div class="item" data-value="hyperspectral image classification">
                  <span class="text">Task</span>
                  <span class="ui horizontal label topic category-task">hyperspectral image classification</span>
                </div>
              
                <div class="item" data-value="text matching">
                  <span class="text">Task</span>
                  <span class="ui horizontal label topic category-task">text matching</span>
                </div>
              
                <div class="item" data-value="object detection">
                  <span class="text">Task</span>
                  <span class="ui horizontal label topic category-task">object detection</span>
                </div>
              
                <div class="item" data-value="person re-identification">
                  <span class="text">Task</span>
                  <span class="ui horizontal label topic category-task">person re-identification</span>
                </div>
              
                <div class="item" data-value="knowledge graphs">
                  <span class="text">Task</span>
                  <span class="ui horizontal label topic category-task">knowledge graphs</span>
                </div>
              
                <div class="item" data-value="novel view synthesis">
                  <span class="text">Task</span>
                  <span class="ui horizontal label topic category-task">novel view synthesis</span>
                </div>
              
                <div class="item" data-value="intent detection">
                  <span class="text">Task</span>
                  <span class="ui horizontal label topic category-task">intent detection</span>
                </div>
              
                <div class="item" data-value="multi-object tracking">
                  <span class="text">Task</span>
                  <span class="ui horizontal label topic category-task">multi-object tracking</span>
                </div>
              
                <div class="item" data-value="acoustic scene classification">
                  <span class="text">Task</span>
                  <span class="ui horizontal label topic category-task">acoustic scene classification</span>
                </div>
              
                <div class="item" data-value="3d hand pose estimation">
                  <span class="text">Task</span>
                  <span class="ui horizontal label topic category-task">3d hand pose estimation</span>
                </div>
              
                <div class="item" data-value="vision and language navigation">
                  <span class="text">Task</span>
                  <span class="ui horizontal label topic category-task">vision and language navigation</span>
                </div>
              
                <div class="item" data-value="whole slide images">
                  <span class="text">Task</span>
                  <span class="ui horizontal label topic category-task">whole slide images</span>
                </div>
              
                <div class="item" data-value="unsupervised machine translation">
                  <span class="text">Task</span>
                  <span class="ui horizontal label topic category-task">unsupervised machine translation</span>
                </div>
              
                <div class="item" data-value="multi-document summarization">
                  <span class="text">Task</span>
                  <span class="ui horizontal label topic category-task">multi-document summarization</span>
                </div>
              
                <div class="item" data-value="virtual try-on">
                  <span class="text">Task</span>
                  <span class="ui horizontal label topic category-task">virtual try-on</span>
                </div>
              
                <div class="item" data-value="opinion mining">
                  <span class="text">Task</span>
                  <span class="ui horizontal label topic category-task">opinion mining</span>
                </div>
              
                <div class="item" data-value="video summarization">
                  <span class="text">Task</span>
                  <span class="ui horizontal label topic category-task">video summarization</span>
                </div>
              
                <div class="item" data-value="image-to-image translation">
                  <span class="text">Task</span>
                  <span class="ui horizontal label topic category-task">image-to-image translation</span>
                </div>
              
                <div class="item" data-value="image inpainting">
                  <span class="text">Task</span>
                  <span class="ui horizontal label topic category-task">image inpainting</span>
                </div>
              
                <div class="item" data-value="video super-resolution">
                  <span class="text">Task</span>
                  <span class="ui horizontal label topic category-task">video super-resolution</span>
                </div>
              
                <div class="item" data-value="text summarization">
                  <span class="text">Task</span>
                  <span class="ui horizontal label topic category-task">text summarization</span>
                </div>
              
                <div class="item" data-value="anomaly detection">
                  <span class="text">Task</span>
                  <span class="ui horizontal label topic category-task">anomaly detection</span>
                </div>
              
                <div class="item" data-value="clustering algorithms evaluation">
                  <span class="text">Task</span>
                  <span class="ui horizontal label topic category-task">clustering algorithms evaluation</span>
                </div>
              
                <div class="item" data-value="visual dialog">
                  <span class="text">Task</span>
                  <span class="ui horizontal label topic category-task">visual dialog</span>
                </div>
              
                <div class="item" data-value="matrix completion">
                  <span class="text">Task</span>
                  <span class="ui horizontal label topic category-task">matrix completion</span>
                </div>
              
                <div class="item" data-value="video semantic segmentation">
                  <span class="text">Task</span>
                  <span class="ui horizontal label topic category-task">video semantic segmentation</span>
                </div>
              
                <div class="item" data-value="line segment detection">
                  <span class="text">Task</span>
                  <span class="ui horizontal label topic category-task">line segment detection</span>
                </div>
              
                <div class="item" data-value="vision-language navigation">
                  <span class="text">Task</span>
                  <span class="ui horizontal label topic category-task">vision-language navigation</span>
                </div>
              
                <div class="item" data-value="denoising">
                  <span class="text">Task</span>
                  <span class="ui horizontal label topic category-task">denoising</span>
                </div>
              
                <div class="item" data-value="relational reasoning">
                  <span class="text">Task</span>
                  <span class="ui horizontal label topic category-task">relational reasoning</span>
                </div>
              
                <div class="item" data-value="disparity estimation">
                  <span class="text">Task</span>
                  <span class="ui horizontal label topic category-task">disparity estimation</span>
                </div>
              
                <div class="item" data-value="3d face animation">
                  <span class="text">Task</span>
                  <span class="ui horizontal label topic category-task">3d face animation</span>
                </div>
              
                <div class="item" data-value="image clustering">
                  <span class="text">Task</span>
                  <span class="ui horizontal label topic category-task">image clustering</span>
                </div>
              
                <div class="item" data-value="3d action recognition">
                  <span class="text">Task</span>
                  <span class="ui horizontal label topic category-task">3d action recognition</span>
                </div>
              
                <div class="item" data-value="panoptic segmentation">
                  <span class="text">Task</span>
                  <span class="ui horizontal label topic category-task">panoptic segmentation</span>
                </div>
              
                <div class="item" data-value="scene understanding">
                  <span class="text">Task</span>
                  <span class="ui horizontal label topic category-task">scene understanding</span>
                </div>
              
                <div class="item" data-value="edge detection">
                  <span class="text">Task</span>
                  <span class="ui horizontal label topic category-task">edge detection</span>
                </div>
              
                <div class="item" data-value="learning-to-rank">
                  <span class="text">Task</span>
                  <span class="ui horizontal label topic category-task">learning-to-rank</span>
                </div>
              
                <div class="item" data-value="region proposal">
                  <span class="text">Task</span>
                  <span class="ui horizontal label topic category-task">region proposal</span>
                </div>
              
                <div class="item" data-value="robust object detection">
                  <span class="text">Task</span>
                  <span class="ui horizontal label topic category-task">robust object detection</span>
                </div>
              
                <div class="item" data-value="hand gesture recognition">
                  <span class="text">Task</span>
                  <span class="ui horizontal label topic category-task">hand gesture recognition</span>
                </div>
              
                <div class="item" data-value="3d absolute human pose estimation">
                  <span class="text">Task</span>
                  <span class="ui horizontal label topic category-task">3d absolute human pose estimation</span>
                </div>
              
                <div class="item" data-value="stereo matching">
                  <span class="text">Task</span>
                  <span class="ui horizontal label topic category-task">stereo matching</span>
                </div>
              
                <div class="item" data-value="aspect-based sentiment analysis">
                  <span class="text">Task</span>
                  <span class="ui horizontal label topic category-task">aspect-based sentiment analysis</span>
                </div>
              
                <div class="item" data-value="drug discovery">
                  <span class="text">Task</span>
                  <span class="ui horizontal label topic category-task">drug discovery</span>
                </div>
              
                <div class="item" data-value="domain adaptation">
                  <span class="text">Task</span>
                  <span class="ui horizontal label topic category-task">domain adaptation</span>
                </div>
              
                <div class="item" data-value="3d instance segmentation">
                  <span class="text">Task</span>
                  <span class="ui horizontal label topic category-task">3d instance segmentation</span>
                </div>
              
                <div class="item" data-value="genre classification">
                  <span class="text">Task</span>
                  <span class="ui horizontal label topic category-task">genre classification</span>
                </div>
              
                <div class="item" data-value="single image dehazing">
                  <span class="text">Task</span>
                  <span class="ui horizontal label topic category-task">single image dehazing</span>
                </div>
              
                <div class="item" data-value="interactive segmentation">
                  <span class="text">Task</span>
                  <span class="ui horizontal label topic category-task">interactive segmentation</span>
                </div>
              
                <div class="item" data-value="salient object detection">
                  <span class="text">Task</span>
                  <span class="ui horizontal label topic category-task">salient object detection</span>
                </div>
              
                <div class="item" data-value="optical character recognition">
                  <span class="text">Task</span>
                  <span class="ui horizontal label topic category-task">optical character recognition</span>
                </div>
              
                <div class="item" data-value="weather forecasting">
                  <span class="text">Task</span>
                  <span class="ui horizontal label topic category-task">weather forecasting</span>
                </div>
              
                <div class="item" data-value="video description">
                  <span class="text">Task</span>
                  <span class="ui horizontal label topic category-task">video description</span>
                </div>
              
                <div class="item" data-value="fine-grained visual recognition">
                  <span class="text">Task</span>
                  <span class="ui horizontal label topic category-task">fine-grained visual recognition</span>
                </div>
              
                <div class="item" data-value="handwriting generation">
                  <span class="text">Task</span>
                  <span class="ui horizontal label topic category-task">handwriting generation</span>
                </div>
              
                <div class="item" data-value="video question answering">
                  <span class="text">Task</span>
                  <span class="ui horizontal label topic category-task">video question answering</span>
                </div>
              
                <div class="item" data-value="metric learning">
                  <span class="text">Task</span>
                  <span class="ui horizontal label topic category-task">metric learning</span>
                </div>
              
                <div class="item" data-value="audio classification">
                  <span class="text">Task</span>
                  <span class="ui horizontal label topic category-task">audio classification</span>
                </div>
              
                <div class="item" data-value="3d semantic segmentation">
                  <span class="text">Task</span>
                  <span class="ui horizontal label topic category-task">3d semantic segmentation</span>
                </div>
              
                <div class="item" data-value="sign language translation">
                  <span class="text">Task</span>
                  <span class="ui horizontal label topic category-task">sign language translation</span>
                </div>
              
                <div class="item" data-value="image dehazing">
                  <span class="text">Task</span>
                  <span class="ui horizontal label topic category-task">image dehazing</span>
                </div>
              
                <div class="item" data-value="unsupervised anomaly detection">
                  <span class="text">Task</span>
                  <span class="ui horizontal label topic category-task">unsupervised anomaly detection</span>
                </div>
              
                <div class="item" data-value="image registration">
                  <span class="text">Task</span>
                  <span class="ui horizontal label topic category-task">image registration</span>
                </div>
              
                <div class="item" data-value="unsupervised image classification">
                  <span class="text">Task</span>
                  <span class="ui horizontal label topic category-task">unsupervised image classification</span>
                </div>
              
                <div class="item" data-value="self-supervised learning">
                  <span class="text">Task</span>
                  <span class="ui horizontal label topic category-task">self-supervised learning</span>
                </div>
              
                <div class="item" data-value="action recognition">
                  <span class="text">Task</span>
                  <span class="ui horizontal label topic category-task">action recognition</span>
                </div>
              
                <div class="item" data-value="text-to-sql">
                  <span class="text">Task</span>
                  <span class="ui horizontal label topic category-task">text-to-sql</span>
                </div>
              
                <div class="item" data-value="video object segmentation">
                  <span class="text">Task</span>
                  <span class="ui horizontal label topic category-task">video object segmentation</span>
                </div>
              
                <div class="item" data-value="vehicle re-identification">
                  <span class="text">Task</span>
                  <span class="ui horizontal label topic category-task">vehicle re-identification</span>
                </div>
              
                <div class="item" data-value="video recognition">
                  <span class="text">Task</span>
                  <span class="ui horizontal label topic category-task">video recognition</span>
                </div>
              
                <div class="item" data-value="3d shape representation">
                  <span class="text">Task</span>
                  <span class="ui horizontal label topic category-task">3d shape representation</span>
                </div>
              
                <div class="item" data-value="3d shape reconstruction">
                  <span class="text">Task</span>
                  <span class="ui horizontal label topic category-task">3d shape reconstruction</span>
                </div>
              
                <div class="item" data-value="hand pose estimation">
                  <span class="text">Task</span>
                  <span class="ui horizontal label topic category-task">hand pose estimation</span>
                </div>
              
                <div class="item" data-value="image enhancement">
                  <span class="text">Task</span>
                  <span class="ui horizontal label topic category-task">image enhancement</span>
                </div>
              
                <div class="item" data-value="image super-resolution">
                  <span class="text">Task</span>
                  <span class="ui horizontal label topic category-task">image super-resolution</span>
                </div>
              
                <div class="item" data-value="speech synthesis">
                  <span class="text">Task</span>
                  <span class="ui horizontal label topic category-task">speech synthesis</span>
                </div>
              
                <div class="item" data-value="out-of-distribution detection">
                  <span class="text">Task</span>
                  <span class="ui horizontal label topic category-task">out-of-distribution detection</span>
                </div>
              
                <div class="item" data-value="scene graph detection">
                  <span class="text">Task</span>
                  <span class="ui horizontal label topic category-task">scene graph detection</span>
                </div>
              
                <div class="item" data-value="unsupervised facial landmark detection">
                  <span class="text">Task</span>
                  <span class="ui horizontal label topic category-task">unsupervised facial landmark detection</span>
                </div>
              
                <div class="item" data-value="passage retrieval">
                  <span class="text">Task</span>
                  <span class="ui horizontal label topic category-task">passage retrieval</span>
                </div>
              
                <div class="item" data-value="self-supervised action recognition">
                  <span class="text">Task</span>
                  <span class="ui horizontal label topic category-task">self-supervised action recognition</span>
                </div>
              
                <div class="item" data-value="hand segmentation">
                  <span class="text">Task</span>
                  <span class="ui horizontal label topic category-task">hand segmentation</span>
                </div>
              
                <div class="item" data-value="action localization">
                  <span class="text">Task</span>
                  <span class="ui horizontal label topic category-task">action localization</span>
                </div>
              
                <div class="item" data-value="object tracking">
                  <span class="text">Task</span>
                  <span class="ui horizontal label topic category-task">object tracking</span>
                </div>
              
                <div class="item" data-value="open-domain question answering">
                  <span class="text">Task</span>
                  <span class="ui horizontal label topic category-task">open-domain question answering</span>
                </div>
              
                <div class="item" data-value="compressive sensing">
                  <span class="text">Task</span>
                  <span class="ui horizontal label topic category-task">compressive sensing</span>
                </div>
              
                <div class="item" data-value="pedestrian detection">
                  <span class="text">Task</span>
                  <span class="ui horizontal label topic category-task">pedestrian detection</span>
                </div>
              
                <div class="item" data-value="quantization">
                  <span class="text">Task</span>
                  <span class="ui horizontal label topic category-task">quantization</span>
                </div>
              
                <div class="item" data-value="image quality assessment">
                  <span class="text">Task</span>
                  <span class="ui horizontal label topic category-task">image quality assessment</span>
                </div>
              
                <div class="item" data-value="causal inference">
                  <span class="text">Task</span>
                  <span class="ui horizontal label topic category-task">causal inference</span>
                </div>
              
                <div class="item" data-value="incremental learning">
                  <span class="text">Task</span>
                  <span class="ui horizontal label topic category-task">incremental learning</span>
                </div>
              
            </div>
          </div>
        </div>
        <div class="three wide field">
          <button class="ui primary button" id="submit-topics" data-url="/amoshochman/sentiment-analysis-on-movie-reviews/src/master/sentiment%20analysis.ipynb/topics">Submit</button>
          <button class="ui button" id="discard-topics-form">Discard</button>
        </div>
      </div>
      <p class="topics-help">New topics will be added to the General category. Only displaying topics that weren't autoscanned from topics file</p>
    </form>
    <div id="repo-home-menu-bar" class="ui secondary menu compare-file-menu">
  <div id="branch-and-bread">
    <div id="compare-branch-dropdown-container">
      <script src="/js/branch_selector.js?v=7d5f7146cb3ec7e80e1c3238fdaa55f928494bbf"></script>
<div id="base-branches" data-active-tab="#branch-list" class="ui floating filter dropdown ref-selector"
    data-no-results="No results found.">
  <div class="ui basic small button">
    <i class="octicon octicon-git-branch"></i>
    <span class="text">
      <span class="branch-selector-title">
        
          Branch:
        
      </span>
      <strong>master</strong>
    </span>
    <i class="expand-icon dropdown icon"></i>
  </div>
  <div class="menu"
    data-selected-branch="master">
    <div class="ui icon search input">
      <i class="filter icon"></i>
      <input id="base_search" name="search" placeholder="Filter branch or tag...">
    </div>
    <div class="header">
      <div class="ui grid">
        <div class="two column row">
          <a class="reference column" href="#" data-target="#branch-list">
							<span class="text black">
								Branches
							</span>
          </a>
          <a class="reference column" href="#" data-target="#tag-list">
							<span class="text ">
								Tags
							</span>
          </a>
        </div>
      </div>
    </div>
    <div id="branch-list" class="scrolling menu" >
      
        
          <div class="item selected"
               data-url="/amoshochman/sentiment-analysis-on-movie-reviews/src/master/sentiment%20analysis.ipynb">master</div>
        
      
    </div>
    <div id="tag-list" class="scrolling menu"
         style="display: none">
      
    </div>
  </div>
</div>

  <div class="splitter">...</div>

<div id="compare-branches" class="ui floating filter dropdown ref-selector"
     data-no-results="No results found.">
  <div class="ui basic small button">
    <i class="octicon octicon-git-branch"></i>
    <span class="text">
      <span >
        compare:
      </span>
      <strong>
        
      </strong>
    </span>
    <i class="expand-icon dropdown icon"></i>
  </div>
  <div class="menu">
    <div class="ui icon search input">
      <i class="filter icon"></i>
      <input id="compare_search" name="search" placeholder="Filter branch or tag...">
    </div>

    <div class="header">
      <div class="ui grid">
        <div class="two column row">
          <a class="reference column" href="#" data-target="#compare-branch-list">
							<span class="text black">
								Branches
							</span>
          </a>
          <a class="reference column" href="#" data-target="#compare-tag-list">
							<span class="text ">
								Tags
							</span>
          </a>
        </div>
      </div>
    </div>
    <div id="compare-branch-list" class="scrolling menu" >
      
        <div class=" item"
             data-url="/amoshochman/sentiment-analysis-on-movie-reviews/diff/master?compare=master&amp;path=sentiment&#43;analysis.ipynb">master</div>
      
    </div>
    <div id="compare-tag-list" class="scrolling menu" style="display: none">
      
    </div>
  </div>
</div>


    </div>
    
      <div class="fitted item">
        
          
          
          <div class="ui breadcrumb">
            <a class="section"
               href="/amoshochman/sentiment-analysis-on-movie-reviews/src/master">sentiment-analysis-on-movie...</a>
            
            
            
              <div class="divider"> /</div>
              
                <span class="active section">sentiment analysis.ipynb</span>
              
            
          </div>
        
      </div>
    
  </div>

  
    <div class="right fitted item">
      <div class="flex-spread">
        

        
        
      </div>
    </div>
  
</div>

    
    
      
<div id="file-content" class="view-content tab-size-8">
  <h4 class="ui top attached header" id="repo-read-file">
    <div>
      
        <i class="octicon octicon-file-text ui left"></i>
        <strong>sentiment analysis.ipynb</strong> <span class="text grey normal">192 KB</span>
      
    </div>
    
      <div class="ui file-actions">
        <div class="ui buttons">
          
            <a class="ui button"
               href="/amoshochman/sentiment-analysis-on-movie-reviews/src/d26c77505c4fe984ed45e2bcec6fa56df938cc43/sentiment%20analysis.ipynb">Permalink</a>
          
          
            <a class="ui button"
               href="/amoshochman/sentiment-analysis-on-movie-reviews/commits/master/sentiment%20analysis.ipynb">History</a>
          
          <a class="ui button" 
             href="/amoshochman/sentiment-analysis-on-movie-reviews/raw/master/sentiment%20analysis.ipynb">Raw</a>
        </div>
        
      </div>
    
  </h4>

    <div class="ui stackable attached table segment" style="padding: 1px">

<div id="file-content" class="file-content">
      
          <div id="ipython-notebook-base-" class="file-view ipython-notebook has-emoji">
  <div class="ui active loader"></div>
  <script>
    $(function() {
      $.getJSON("\/amoshochman\/sentiment-analysis-on-movie-reviews\/raw\/master\/sentiment%20analysis.ipynb", null, function(notebook_json) {
        var notebook = nb.parse(notebook_json);
        var rendered = notebook.render();
        $.ajax({
          type: 'POST',
          url: '/-/api/sanitize_ipynb',
          data: rendered.outerHTML,
          processData: false,
          contentType: false,
        }).done(function(data) {
          $("#ipython-notebook-base-").append(data);
          $("#ipython-notebook-base- code").each(function(i, block) {
            $(block).addClass('py').addClass('python');
            hljs.highlightBlock(block);
          });

          
          var renderer = new marked.Renderer();
          var context = '';
          context = context.substring(0, context.lastIndexOf('/'));
          renderer.image = function(href, title, text) {
            return `<img src="${context}/${href}"`;
          };
          $("#ipython-notebook-base- .nb-markdown-cell").each(function(i, markdown) {
            $(markdown).html(marked($(markdown).html(), { renderer: renderer }));
          });
        });
      });
    });
  </script>
</div>

      
</div>

</div>


</div>
<script>
  function submitDeleteForm() {
    var message = prompt("delete_confirm_message\n\ndelete_commit_summary", "Delete ''");
    if (message != null) {
      $('#delete-message').val(message);
      $('#delete-file-form').submit();
    }
  }
</script>

    
    
      <div class="center page buttons">
  <a id="previous-file" href="/amoshochman/sentiment-analysis-on-movie-reviews/src/master/README.md" rel="nofollow" class="ui animated button"
     tabindex="0">
    <div class="visible content">Prev</div>
    <div class="hidden content">
      <i class="left arrow icon"></i>
    </div>
  </a>
  <a id="next-file" href="" rel="nofollow" class="ui animated button disabled"
     tabindex="0">
    <div class="visible content">Next</div>
    <div class="hidden content">
      <i class="right arrow icon"></i>
    </div>
  </a>
</div>
<div class="center page tip">
  <strong>Tip!</strong>
  <p>Press <strong>p</strong> or <strong><i class="arrow left icon"></i></strong> to see the previous file or,
    <strong>n</strong> or <strong><i class="arrow right icon"></i></strong> to see the next file</p>
</div>

  <script src="/js/libs/hotkeys.js?v=7d5f7146cb3ec7e80e1c3238fdaa55f928494bbf"></script>

<script src="/js/nextPrev.js?v=7d5f7146cb3ec7e80e1c3238fdaa55f928494bbf"></script>

    
  </div>
</div>

</div>
<footer>
  <div class="ui inverted vertical footer segment">
    <div class="ui container">
      <div class="ui stackable inverted divided equal height grid">
        <div id="footer-logo-social" class="four wide column">
          <a href="">
            <img alt="footer DAGsHub logo" id="footer-logo" class="ui centered image"
                           src="/img/footerlogo.svg">
          </a>
          <div id="footer-social" class="ui center aligned row">
            <a aria-label="follow us on Twitter" class="ui basic inverted circular twitter icon button"
               href="https://twitter.com/TheRealDAGsHub">
              <i class="twitter large icon"></i>
            </a>
            <a aria-label="follow us on YouTube" class="ui basic inverted circular youtube icon button"
               href="https://youtube.com/c/dagshub">
              <i class="youtube large icon"></i>
            </a>
            <a aria-label="follow us on LinkedIn" class="ui basic inverted circular linkedin icon button"
               href="https://www.linkedin.com/company/dagshub">
              <i class="linkedin large icon"></i>
            </a>
            <a aria-label="join our Discord" class="ui basic inverted circular discord icon button"
               href="https://discord.com/invite/9gU36Y6">
              <i class="discord large icon"></i>
            </a>
          </div>
        </div>
        <div class="two wide column">
          <div class="ui link inverted list relaxed">
            <a class="item" rel="noopener noreferrer" href="">Home</a>
            <a class="item" rel="noopener noreferrer" href="/explore/repos">Explore</a>
            <a class="item" rel="noopener noreferrer" href="/docs">Docs</a>
            <a class="item" rel="noopener noreferrer" href="/docs/faq">FAQ</a>
          </div>
        </div>
        <div class="two wide column">
          <div class="ui link inverted list relaxed">
            <a class="item" rel="noopener noreferrer" href="/blog">Blog</a>
            <a class="item" rel="noopener noreferrer" href="/about">Our Story</a>
            <a class="item" rel="noopener noreferrer" href="/careers">Careers</a>
            
            <a id="merch-store" class="item" rel="noopener noreferrer"
               href="https://teespring.com/stores/dagshub">Merch</a>
          </div>
        </div>
        <div class="two wide column">
          <div class="ui link inverted list relaxed">
            <a class="item" id="contact-us-footer" href="javascript:;">Contact Us</a>
            <script>
              (function() {
                const $contactModal = $('#contact-modal');
                const $contactForm = $contactModal.find('#contact-form');
                $contactModal.modal('attach events', '#contact-us-footer', 'show');
                $('#contact-us-footer').on('click', () => {
                  $contactForm.attr('action', 'contact_form');
                });
              })();
            </script>
            <a class="item" rel="noopener noreferrer" href="/plans">Plans</a>
            <a class="item" rel="noopener noreferrer" href="/terms">Terms</a>
            <a class="item" rel="noopener noreferrer" href="/privacy">Privacy</a>
          </div>
        </div>
        <div class="six wide column">
          <p><b>© 2021 DAGsHub</b></p>
          <p>We are completely free for open source projects. </br> You can start now!</p>
          
            <a class="ui green button" href="/user/sign_up"><i class="sign-up-icon fas fa-user-plus"></i>
              Sign Up</a>
          
        </div>
      </div>

      
      
      
      
      
      
      
      
      
      
      
      

    </div>
  </div>
</footer>

</body>





  <link rel="stylesheet" href="/plugins/highlight-9.18.0/github.css">
  <script src="/plugins/highlight-9.18.0/highlight.pack.js"></script>
  <script>hljs.initHighlightingOnLoad();</script>







<script src="/js/libs/emojify-1.1.0.min.js"></script>
<script src="/js/libs/clipboard-1.5.9.min.js"></script>



<script src="/js/gogs.js?v=7d5f7146cb3ec7e80e1c3238fdaa55f928494bbf"></script>
<script src="/js/dagshub.js?v=7d5f7146cb3ec7e80e1c3238fdaa55f928494bbf"></script>


  <script src="/js/topics.js?v=7d5f7146cb3ec7e80e1c3238fdaa55f928494bbf"></script>




</html>


